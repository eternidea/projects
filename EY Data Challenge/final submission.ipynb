{
 "cells": [
  {
   "cell_type": "code",
   "execution_count": 69,
   "id": "d9e11a94-a687-4236-ac96-7215d7e18478",
   "metadata": {},
   "outputs": [],
   "source": [
    "# Supress Warnings\n",
    "import warnings\n",
    "warnings.filterwarnings('ignore')\n",
    "\n",
    "import pandas as pd\n",
    "import numpy as np\n",
    "import geopandas as gpd\n",
    "import matplotlib.pyplot as plt\n",
    "import shapely\n",
    "from shapely.geometry import Polygon, mapping\n",
    "\n",
    "import matplotlib.pyplot as plt\n",
    "import xarray as xr\n",
    "\n",
    "#planetary computer\n",
    "import pystac\n",
    "import planetary_computer as pc\n",
    "import odc\n",
    "\n",
    "from pystac_client import Client\n",
    "from pystac.extensions.eo import EOExtension as eo\n",
    "from odc.stac import stac_load\n",
    "\n",
    "from sklearn.model_selection import train_test_split, GridSearchCV\n",
    "from sklearn.cluster import KMeans\n",
    "from sklearn.ensemble import VotingClassifier\n",
    "from sklearn.linear_model import LogisticRegression\n",
    "from sklearn.ensemble import RandomForestClassifier, GradientBoostingClassifier\n",
    "from sklearn.tree import DecisionTreeClassifier\n",
    "from sklearn.naive_bayes import GaussianNB\n",
    "from xgboost import XGBClassifier\n",
    "\n",
    "from sklearn.metrics import f1_score, accuracy_score, classification_report, confusion_matrix"
   ]
  },
  {
   "cell_type": "code",
   "execution_count": 6,
   "id": "ca189ff3-9fca-493c-b1ca-ebfa52d23957",
   "metadata": {},
   "outputs": [],
   "source": [
    "original=pd.read_csv('Crop_Location_Data_20221201.csv')"
   ]
  },
  {
   "cell_type": "code",
   "execution_count": 7,
   "id": "adcfb67b-a43b-40b7-8a6a-920bd42ad658",
   "metadata": {},
   "outputs": [],
   "source": [
    "original['lati']=0\n",
    "original['loti']=0"
   ]
  },
  {
   "cell_type": "code",
   "execution_count": 8,
   "id": "99537087-56a8-481d-8f8f-40a3de9e71c0",
   "metadata": {},
   "outputs": [],
   "source": [
    "for x in range(len(original)):\n",
    "    \n",
    "    tmp=original['Latitude and Longitude'][x].split(',')\n",
    "    \n",
    "    lati=tmp[0]\n",
    "    original['lati'][x]=lati.lstrip('(')\n",
    "\n",
    "    loti=tmp[1]\n",
    "    original['loti'][x]=loti.rstrip(')')"
   ]
  },
  {
   "cell_type": "code",
   "execution_count": 9,
   "id": "6231016d-8b6f-4761-b50d-cfd8a98cd8e9",
   "metadata": {},
   "outputs": [],
   "source": [
    "original['loti']=original['loti'].astype('float64')\n",
    "original['lati']=original['lati'].astype('float64')"
   ]
  },
  {
   "cell_type": "markdown",
   "id": "079a7f61-bb3c-420f-bbaa-fb11e1fa7b07",
   "metadata": {},
   "source": [
    "ori_gdf=gpd.GeoDataFrame(\n",
    "    original.loc[:,[c for c in original.columns if (c!='lati') or (c!='loti')]],\n",
    "    geometry=gpd.points_from_xy(original.loti, original.lati),\n",
    "    crs='epsg:4326')"
   ]
  },
  {
   "cell_type": "markdown",
   "id": "a2ee422a-6261-4cd6-a1e6-639f7a9aebbd",
   "metadata": {},
   "source": [
    "ori_gdf.geometry.plot()"
   ]
  },
  {
   "cell_type": "markdown",
   "id": "82e75639-e371-4d0b-bbf4-84835d5c6f32",
   "metadata": {},
   "source": [
    "ori_gdf['red']=0\n",
    "ori_gdf['green']=0\n",
    "ori_gdf['blue']=0\n",
    "ori_gdf['nir']=0\n",
    "ori_gdf['ndvi']=0"
   ]
  },
  {
   "cell_type": "code",
   "execution_count": 6,
   "id": "240b6ce3-bf71-4968-a57e-3bff072b120b",
   "metadata": {},
   "outputs": [],
   "source": [
    "# number of groups : 7"
   ]
  },
  {
   "cell_type": "markdown",
   "id": "e6d419fc-9eb9-4d7d-841a-0e3c8da9f570",
   "metadata": {},
   "source": [
    "from sklearn.cluster import KMeans"
   ]
  },
  {
   "cell_type": "markdown",
   "id": "314e7e24-7746-4156-84f3-f984bac16c96",
   "metadata": {},
   "source": [
    "X=pd.concat([original['lati'],original['loti']],axis=1)"
   ]
  },
  {
   "cell_type": "markdown",
   "id": "714fb858-1706-4baf-8875-17888407bc39",
   "metadata": {},
   "source": [
    "kmeans=KMeans(n_clusters=7, random_state=0)\n",
    "clusters=kmeans.fit(X)"
   ]
  },
  {
   "cell_type": "markdown",
   "id": "831efbc7-605e-44c2-8811-b968c2c8d4b5",
   "metadata": {},
   "source": [
    "original['cluster']=clusters.labels_"
   ]
  },
  {
   "cell_type": "code",
   "execution_count": 11,
   "id": "50238bb5-ec8d-45d0-8891-64f4579706e8",
   "metadata": {},
   "outputs": [
    {
     "data": {
      "text/html": [
       "<div>\n",
       "<style scoped>\n",
       "    .dataframe tbody tr th:only-of-type {\n",
       "        vertical-align: middle;\n",
       "    }\n",
       "\n",
       "    .dataframe tbody tr th {\n",
       "        vertical-align: top;\n",
       "    }\n",
       "\n",
       "    .dataframe thead th {\n",
       "        text-align: right;\n",
       "    }\n",
       "</style>\n",
       "<table border=\"1\" class=\"dataframe\">\n",
       "  <thead>\n",
       "    <tr style=\"text-align: right;\">\n",
       "      <th></th>\n",
       "      <th>Latitude and Longitude</th>\n",
       "      <th>Class of Land</th>\n",
       "      <th>lati</th>\n",
       "      <th>loti</th>\n",
       "    </tr>\n",
       "  </thead>\n",
       "  <tbody>\n",
       "    <tr>\n",
       "      <th>0</th>\n",
       "      <td>(10.323727047081501, 105.2516346045924)</td>\n",
       "      <td>Rice</td>\n",
       "      <td>10.323727</td>\n",
       "      <td>105.251635</td>\n",
       "    </tr>\n",
       "    <tr>\n",
       "      <th>1</th>\n",
       "      <td>(10.322364360592521, 105.27843410554115)</td>\n",
       "      <td>Rice</td>\n",
       "      <td>10.322364</td>\n",
       "      <td>105.278434</td>\n",
       "    </tr>\n",
       "    <tr>\n",
       "      <th>2</th>\n",
       "      <td>(10.321455902933202, 105.25254306225168)</td>\n",
       "      <td>Rice</td>\n",
       "      <td>10.321456</td>\n",
       "      <td>105.252543</td>\n",
       "    </tr>\n",
       "    <tr>\n",
       "      <th>3</th>\n",
       "      <td>(10.324181275911162, 105.25118037576274)</td>\n",
       "      <td>Rice</td>\n",
       "      <td>10.324181</td>\n",
       "      <td>105.251180</td>\n",
       "    </tr>\n",
       "    <tr>\n",
       "      <th>4</th>\n",
       "      <td>(10.324635504740822, 105.27389181724476)</td>\n",
       "      <td>Rice</td>\n",
       "      <td>10.324636</td>\n",
       "      <td>105.273892</td>\n",
       "    </tr>\n",
       "  </tbody>\n",
       "</table>\n",
       "</div>"
      ],
      "text/plain": [
       "                     Latitude and Longitude Class of Land       lati  \\\n",
       "0   (10.323727047081501, 105.2516346045924)          Rice  10.323727   \n",
       "1  (10.322364360592521, 105.27843410554115)          Rice  10.322364   \n",
       "2  (10.321455902933202, 105.25254306225168)          Rice  10.321456   \n",
       "3  (10.324181275911162, 105.25118037576274)          Rice  10.324181   \n",
       "4  (10.324635504740822, 105.27389181724476)          Rice  10.324636   \n",
       "\n",
       "         loti  \n",
       "0  105.251635  \n",
       "1  105.278434  \n",
       "2  105.252543  \n",
       "3  105.251180  \n",
       "4  105.273892  "
      ]
     },
     "execution_count": 11,
     "metadata": {},
     "output_type": "execute_result"
    }
   ],
   "source": [
    "original.head()"
   ]
  },
  {
   "cell_type": "code",
   "execution_count": 10,
   "id": "8f5df1e6-3026-4ea0-94cc-beaa3df03e49",
   "metadata": {},
   "outputs": [
    {
     "data": {
      "text/plain": [
       "600"
      ]
     },
     "execution_count": 10,
     "metadata": {},
     "output_type": "execute_result"
    }
   ],
   "source": [
    "len(original)"
   ]
  },
  {
   "cell_type": "markdown",
   "id": "ebdf6e02-5fae-4194-bace-98a9f444b9b6",
   "metadata": {},
   "source": [
    "plt.scatter(original.lati, original.loti, c=original.cluster)"
   ]
  },
  {
   "cell_type": "markdown",
   "id": "6ba4ad98-190f-4eed-8061-94f3b4141e35",
   "metadata": {},
   "source": [
    "ori_gdf['cluster'].value_counts()"
   ]
  },
  {
   "cell_type": "markdown",
   "id": "76ec6806-0e75-4a50-9c4c-f5a5841773c5",
   "metadata": {},
   "source": [
    "ori_gdf.info()"
   ]
  },
  {
   "cell_type": "markdown",
   "id": "d83207eb-4fac-415e-acd5-e1289a13a926",
   "metadata": {},
   "source": [
    "g0=ori_gdf[ori_gdf['cluster']==0]\n",
    "g1=ori_gdf[ori_gdf['cluster']==1]\n",
    "g2=ori_gdf[ori_gdf['cluster']==2]\n",
    "g3=ori_gdf[ori_gdf['cluster']==3]\n",
    "g4=ori_gdf[ori_gdf['cluster']==4]\n",
    "g5=ori_gdf[ori_gdf['cluster']==5]\n",
    "g6=ori_gdf[ori_gdf['cluster']==6]"
   ]
  },
  {
   "cell_type": "markdown",
   "id": "5fe934fc-7d52-4319-8109-70cd10f9cc19",
   "metadata": {},
   "source": [
    "g0.reset_index(drop=True, inplace=True)\n",
    "g1.reset_index(drop=True, inplace=True)\n",
    "g2.reset_index(drop=True, inplace=True)\n",
    "g3.reset_index(drop=True, inplace=True)\n",
    "g4.reset_index(drop=True, inplace=True)\n",
    "g5.reset_index(drop=True, inplace=True)\n",
    "g6.reset_index(drop=True, inplace=True)"
   ]
  },
  {
   "cell_type": "markdown",
   "id": "dfefa0d1-b93f-484b-b536-ffb4a2f34e35",
   "metadata": {},
   "source": [
    "### Getting the sentinel Data"
   ]
  },
  {
   "cell_type": "code",
   "execution_count": 16,
   "id": "eb34c5fd-f8db-40aa-8382-5bd989d0980d",
   "metadata": {},
   "outputs": [],
   "source": [
    "def first_def(df, month):\n",
    "    \n",
    "    lalo=df.columns[0]\n",
    "    tmp=list(df[lalo])\n",
    "    \n",
    "    for x in range(len(tmp)):\n",
    "        \n",
    "        lati=float(tmp[x].replace('(','').replace(')','').replace(' ','').split(',')[0])\n",
    "        loti=float(tmp[x].replace('(','').replace(')','').replace(' ','').split(',')[1])\n",
    "        \n",
    "    \n",
    "        catalog = Client.open(\n",
    "        \"https://planetarycomputer.microsoft.com/api/stac/v1\",\n",
    "        modifier=pc.sign_inplace,)\n",
    "    \n",
    "        a=lati-0.05\n",
    "        b=loti-0.05\n",
    "\n",
    "        c=lati+0.05\n",
    "        d=loti+0.05\n",
    "\n",
    "        bbox_of_interest=(b,a,d,c)\n",
    "\n",
    "        if month==1:\n",
    "            time_window=\"2019-01-01/2019-01-31\"\n",
    "        elif month==2:\n",
    "            time_window=\"2019-02-01/2019-02-28\"\n",
    "        elif month==3:\n",
    "            time_window=\"2019-03-01/2019-03-31\"\n",
    "        elif month==5:\n",
    "            time_window=\"2019-05-01/2019-05-31\"\n",
    "        elif month==6:\n",
    "            time_window=\"2019-06-01/2019-06-30\"\n",
    "        elif month==9:\n",
    "            time_window=\"2019-09-01/2019-09-30\"\n",
    "        elif month==10:\n",
    "            time_window=\"2019-10-01/2019-10-31\"\n",
    "\n",
    "            \n",
    "            \n",
    "            \n",
    "            \n",
    "        search = catalog.search(\n",
    "            collections=[\"sentinel-2-l2a\"], bbox=bbox_of_interest, datetime=time_window)\n",
    "\n",
    "        items = search.get_all_items()\n",
    "        gdf=gpd.GeoDataFrame.from_features(items.to_dict(), crs='epsg:4326')\n",
    "        date=gdf[gdf['eo:cloud_cover']==min(gdf['eo:cloud_cover'])]['datetime'].values[0]\n",
    "            \n",
    "        list_items=list(items)\n",
    "        \n",
    "        resolution=20\n",
    "        scale=resolution/111320\n",
    "\n",
    "        xx = stac_load(\n",
    "            items,\n",
    "            bands=[\"red\",\"nir\",\"SCL\"],\n",
    "            crs=\"EPSG:4326\", # Latitude-Longitude\n",
    "            resolution=scale, # Degrees\n",
    "            chunks={\"x\": 2048, \"y\": 2048},\n",
    "            dtype=\"uint16\",\n",
    "            patch_url=pc.sign,\n",
    "            bbox=bbox_of_interest\n",
    "        )    \n",
    "\n",
    "        cloud_mask = \\\n",
    "        (xx.SCL != 0) & \\\n",
    "        (xx.SCL != 1) & \\\n",
    "        (xx.SCL != 3) & \\\n",
    "        (xx.SCL != 6) & \\\n",
    "        (xx.SCL != 8) & \\\n",
    "        (xx.SCL != 9) & \\\n",
    "        (xx.SCL != 10) \n",
    "\n",
    "        cleaned_data = xx.where(cloud_mask).astype(\"uint16\")\n",
    "        \n",
    "        cleaned_data=cleaned_data.assign(ndvi=lambda x: (x.nir-x.red)/(x.nir+x.red))\n",
    "\n",
    "        final=cleaned_data.sel(time=date)\n",
    "                \n",
    "        nir=str('nir_{0}'.format(str(month)))\n",
    "        ndvi=str('ndvi_{0}'.format(str(month)))\n",
    "        \n",
    "        df[str(nir)][x]=float(final.sel(latitude=lati, longitude=loti, method='nearest').nir.compute().values)\n",
    "        df[str(ndvi)][x]=float(final.sel(latitude=lati, longitude=loti, method='nearest').ndvi.compute().values)\n",
    "        \n",
    "        "
   ]
  },
  {
   "cell_type": "code",
   "execution_count": 31,
   "id": "9cb980e3-3bf3-41e7-a3be-a20fccc1eb3f",
   "metadata": {},
   "outputs": [],
   "source": [
    "def second_def(df, month):\n",
    "    \n",
    "    lalo=df.columns[0]\n",
    "    tmp=list(df[lalo])\n",
    "    \n",
    "    for x in range(len(tmp)):\n",
    "        \n",
    "        lati=float(tmp[x].replace('(','').replace(')','').replace(' ','').split(',')[0])\n",
    "        loti=float(tmp[x].replace('(','').replace(')','').replace(' ','').split(',')[1])\n",
    "        \n",
    "    \n",
    "        catalog = Client.open(\n",
    "        \"https://planetarycomputer.microsoft.com/api/stac/v1\",\n",
    "        modifier=pc.sign_inplace,)\n",
    "    \n",
    "        a=lati-0.05\n",
    "        b=loti-0.05\n",
    "\n",
    "        c=lati+0.05\n",
    "        d=loti+0.05\n",
    "\n",
    "        bbox_of_interest=(b,a,d,c)\n",
    "\n",
    "        if month==1:\n",
    "            time_window=\"2019-01-01/2019-01-31\"\n",
    "        elif month==2:\n",
    "            time_window=\"2019-02-01/2019-02-28\"\n",
    "        elif month==3:\n",
    "            time_window=\"2019-03-01/2019-03-31\"\n",
    "        elif month==5:\n",
    "            time_window=\"2019-05-01/2019-05-31\"\n",
    "        elif month==6:\n",
    "            time_window=\"2019-06-01/2019-06-30\"\n",
    "        elif month==9:\n",
    "            time_window=\"2019-09-01/2019-09-30\"\n",
    "        elif month==10:\n",
    "            time_window=\"2019-10-01/2019-10-31\"\n",
    "\n",
    "            \n",
    "            \n",
    "            \n",
    "            \n",
    "        search = catalog.search(collections=[\"sentinel-1-rtc\"], bbox=bbox_of_interest, datetime=time_window)\n",
    "\n",
    "        items = list(search.get_all_items())\n",
    "        bands_of_interest = ['vh','vv']\n",
    "        \n",
    "        data = stac_load([items[0]], patch_url=pc.sign, bbox=bbox_of_interest).isel(time=0)\n",
    "        vh = data[\"vh\"].astype(\"float\").values.tolist()[0][0]\n",
    "        vv = data[\"vv\"].astype(\"float\").values.tolist()[0][0]\n",
    "\n",
    "        var_vv=str('vv_{0}'.format(str(month)))\n",
    "        var_vh=str('vh_{0}'.format(str(month)))\n",
    "        \n",
    "        df[str(var_vv)][x]=vv\n",
    "        df[str(var_vh)][x]=vh        "
   ]
  },
  {
   "cell_type": "code",
   "execution_count": 23,
   "id": "95363085-c4e6-4ece-8f0d-33092ef66c74",
   "metadata": {},
   "outputs": [],
   "source": [
    "mon=[1,2,3,5,6,9,10]\n",
    "mon=[1,2]\n",
    "value=['nir','ndvi']\n",
    "for string in mon:\n",
    "    for val in value:\n",
    "        var_name='{0}_{1}'.format(val, string)\n",
    "        original[var_name]=0"
   ]
  },
  {
   "cell_type": "code",
   "execution_count": 24,
   "id": "60bcaffd-7837-45b6-9970-04e5ea1fa3b9",
   "metadata": {},
   "outputs": [
    {
     "data": {
      "text/plain": [
       "Index(['Latitude and Longitude', 'Class of Land', 'lati', 'loti', 'nir_1',\n",
       "       'ndvi_1', 'nir_2', 'ndvi_2', 'nir_3', 'ndvi_3', 'nir_5', 'ndvi_5',\n",
       "       'nir_6', 'ndvi_6', 'nir_9', 'ndvi_9', 'nir_10', 'ndvi_10'],\n",
       "      dtype='object')"
      ]
     },
     "execution_count": 24,
     "metadata": {},
     "output_type": "execute_result"
    }
   ],
   "source": [
    "original.columns"
   ]
  },
  {
   "cell_type": "code",
   "execution_count": 25,
   "id": "6aff861c-f6c5-4fbf-a003-ba8dce060412",
   "metadata": {},
   "outputs": [],
   "source": [
    "for string in mon:\n",
    "    first_def(original,string)"
   ]
  },
  {
   "cell_type": "code",
   "execution_count": 20,
   "id": "a89680ea-22c8-4cbf-bbcc-c34ba2175800",
   "metadata": {},
   "outputs": [
    {
     "data": {
      "text/html": [
       "<div>\n",
       "<style scoped>\n",
       "    .dataframe tbody tr th:only-of-type {\n",
       "        vertical-align: middle;\n",
       "    }\n",
       "\n",
       "    .dataframe tbody tr th {\n",
       "        vertical-align: top;\n",
       "    }\n",
       "\n",
       "    .dataframe thead th {\n",
       "        text-align: right;\n",
       "    }\n",
       "</style>\n",
       "<table border=\"1\" class=\"dataframe\">\n",
       "  <thead>\n",
       "    <tr style=\"text-align: right;\">\n",
       "      <th></th>\n",
       "      <th>Latitude and Longitude</th>\n",
       "      <th>Class of Land</th>\n",
       "      <th>lati</th>\n",
       "      <th>loti</th>\n",
       "      <th>nir_1</th>\n",
       "      <th>ndvi_1</th>\n",
       "      <th>nir_2</th>\n",
       "      <th>ndvi_2</th>\n",
       "      <th>nir_3</th>\n",
       "      <th>ndvi_3</th>\n",
       "      <th>nir_5</th>\n",
       "      <th>ndvi_5</th>\n",
       "      <th>nir_6</th>\n",
       "      <th>ndvi_6</th>\n",
       "      <th>nir_9</th>\n",
       "      <th>ndvi_9</th>\n",
       "      <th>nir_10</th>\n",
       "      <th>ndvi_10</th>\n",
       "    </tr>\n",
       "  </thead>\n",
       "  <tbody>\n",
       "    <tr>\n",
       "      <th>0</th>\n",
       "      <td>(10.323727047081501, 105.2516346045924)</td>\n",
       "      <td>Rice</td>\n",
       "      <td>10.323727</td>\n",
       "      <td>105.251635</td>\n",
       "      <td>1360</td>\n",
       "      <td>0.599059</td>\n",
       "      <td>4018</td>\n",
       "      <td>0.884174</td>\n",
       "      <td>3994</td>\n",
       "      <td>0.784629</td>\n",
       "      <td>2730</td>\n",
       "      <td>0.791926</td>\n",
       "      <td>3552</td>\n",
       "      <td>0.866036</td>\n",
       "      <td>4796</td>\n",
       "      <td>0.811862</td>\n",
       "      <td>734</td>\n",
       "      <td>0.819083</td>\n",
       "    </tr>\n",
       "    <tr>\n",
       "      <th>1</th>\n",
       "      <td>(10.322364360592521, 105.27843410554115)</td>\n",
       "      <td>Rice</td>\n",
       "      <td>10.322364</td>\n",
       "      <td>105.278434</td>\n",
       "      <td>1836</td>\n",
       "      <td>0.602094</td>\n",
       "      <td>3670</td>\n",
       "      <td>0.847006</td>\n",
       "      <td>4396</td>\n",
       "      <td>0.789902</td>\n",
       "      <td>4000</td>\n",
       "      <td>0.877053</td>\n",
       "      <td>3928</td>\n",
       "      <td>0.828678</td>\n",
       "      <td>2298</td>\n",
       "      <td>0.710458</td>\n",
       "      <td>3538</td>\n",
       "      <td>0.871463</td>\n",
       "    </tr>\n",
       "    <tr>\n",
       "      <th>2</th>\n",
       "      <td>(10.321455902933202, 105.25254306225168)</td>\n",
       "      <td>Rice</td>\n",
       "      <td>10.321456</td>\n",
       "      <td>105.252543</td>\n",
       "      <td>1688</td>\n",
       "      <td>0.638835</td>\n",
       "      <td>3476</td>\n",
       "      <td>0.847462</td>\n",
       "      <td>3980</td>\n",
       "      <td>0.765358</td>\n",
       "      <td>2684</td>\n",
       "      <td>0.747396</td>\n",
       "      <td>3776</td>\n",
       "      <td>0.811031</td>\n",
       "      <td>3686</td>\n",
       "      <td>0.815316</td>\n",
       "      <td>1926</td>\n",
       "      <td>0.603664</td>\n",
       "    </tr>\n",
       "    <tr>\n",
       "      <th>3</th>\n",
       "      <td>(10.324181275911162, 105.25118037576274)</td>\n",
       "      <td>Rice</td>\n",
       "      <td>10.324181</td>\n",
       "      <td>105.251180</td>\n",
       "      <td>2722</td>\n",
       "      <td>0.831147</td>\n",
       "      <td>3802</td>\n",
       "      <td>0.857806</td>\n",
       "      <td>4640</td>\n",
       "      <td>0.627499</td>\n",
       "      <td>3094</td>\n",
       "      <td>0.784828</td>\n",
       "      <td>3732</td>\n",
       "      <td>0.829412</td>\n",
       "      <td>4732</td>\n",
       "      <td>0.745160</td>\n",
       "      <td>750</td>\n",
       "      <td>0.835985</td>\n",
       "    </tr>\n",
       "    <tr>\n",
       "      <th>4</th>\n",
       "      <td>(10.324635504740822, 105.27389181724476)</td>\n",
       "      <td>Rice</td>\n",
       "      <td>10.324636</td>\n",
       "      <td>105.273892</td>\n",
       "      <td>2348</td>\n",
       "      <td>0.767407</td>\n",
       "      <td>4388</td>\n",
       "      <td>0.862479</td>\n",
       "      <td>4688</td>\n",
       "      <td>0.797201</td>\n",
       "      <td>3260</td>\n",
       "      <td>0.830432</td>\n",
       "      <td>3572</td>\n",
       "      <td>0.892450</td>\n",
       "      <td>3962</td>\n",
       "      <td>0.829601</td>\n",
       "      <td>3716</td>\n",
       "      <td>0.900767</td>\n",
       "    </tr>\n",
       "  </tbody>\n",
       "</table>\n",
       "</div>"
      ],
      "text/plain": [
       "                     Latitude and Longitude Class of Land       lati  \\\n",
       "0   (10.323727047081501, 105.2516346045924)          Rice  10.323727   \n",
       "1  (10.322364360592521, 105.27843410554115)          Rice  10.322364   \n",
       "2  (10.321455902933202, 105.25254306225168)          Rice  10.321456   \n",
       "3  (10.324181275911162, 105.25118037576274)          Rice  10.324181   \n",
       "4  (10.324635504740822, 105.27389181724476)          Rice  10.324636   \n",
       "\n",
       "         loti  nir_1    ndvi_1  nir_2    ndvi_2  nir_3    ndvi_3  nir_5  \\\n",
       "0  105.251635   1360  0.599059   4018  0.884174   3994  0.784629   2730   \n",
       "1  105.278434   1836  0.602094   3670  0.847006   4396  0.789902   4000   \n",
       "2  105.252543   1688  0.638835   3476  0.847462   3980  0.765358   2684   \n",
       "3  105.251180   2722  0.831147   3802  0.857806   4640  0.627499   3094   \n",
       "4  105.273892   2348  0.767407   4388  0.862479   4688  0.797201   3260   \n",
       "\n",
       "     ndvi_5  nir_6    ndvi_6  nir_9    ndvi_9  nir_10   ndvi_10  \n",
       "0  0.791926   3552  0.866036   4796  0.811862     734  0.819083  \n",
       "1  0.877053   3928  0.828678   2298  0.710458    3538  0.871463  \n",
       "2  0.747396   3776  0.811031   3686  0.815316    1926  0.603664  \n",
       "3  0.784828   3732  0.829412   4732  0.745160     750  0.835985  \n",
       "4  0.830432   3572  0.892450   3962  0.829601    3716  0.900767  "
      ]
     },
     "execution_count": 20,
     "metadata": {},
     "output_type": "execute_result"
    }
   ],
   "source": [
    "original.head()"
   ]
  },
  {
   "cell_type": "code",
   "execution_count": 27,
   "id": "35dadd1c-e537-4c93-8c7d-46d786f42a74",
   "metadata": {},
   "outputs": [
    {
     "name": "stdout",
     "output_type": "stream",
     "text": [
      "0 Latitude and Longitude\n",
      "0 Class of Land\n",
      "0 lati\n",
      "0 loti\n",
      "0 nir_1\n",
      "293 ndvi_1\n",
      "0 nir_2\n",
      "242 ndvi_2\n",
      "0 nir_3\n",
      "282 ndvi_3\n",
      "0 nir_5\n",
      "268 ndvi_5\n",
      "0 nir_6\n",
      "279 ndvi_6\n",
      "0 nir_9\n",
      "373 ndvi_9\n",
      "0 nir_10\n",
      "330 ndvi_10\n"
     ]
    }
   ],
   "source": [
    "for x in original.columns:\n",
    "    print(original[x].isnull().sum(), x)"
   ]
  },
  {
   "cell_type": "code",
   "execution_count": 28,
   "id": "b8435a17-60a1-4e65-ad5e-2700275c7c09",
   "metadata": {},
   "outputs": [],
   "source": [
    "mon=[1,2,3,5,6,9,10]\n",
    "value=['vv','vh']\n",
    "for string in mon:\n",
    "    for val in value:\n",
    "        var_name='{0}_{1}'.format(val, string)\n",
    "        original[var_name]=0"
   ]
  },
  {
   "cell_type": "code",
   "execution_count": 29,
   "id": "37ab1dc8-4f2c-458b-9fff-e2d469d1fefb",
   "metadata": {},
   "outputs": [
    {
     "data": {
      "text/plain": [
       "Index(['Latitude and Longitude', 'Class of Land', 'lati', 'loti', 'nir_1',\n",
       "       'ndvi_1', 'nir_2', 'ndvi_2', 'nir_3', 'ndvi_3', 'nir_5', 'ndvi_5',\n",
       "       'nir_6', 'ndvi_6', 'nir_9', 'ndvi_9', 'nir_10', 'ndvi_10', 'vv_1',\n",
       "       'vh_1', 'vv_2', 'vh_2', 'vv_3', 'vh_3', 'vv_5', 'vh_5', 'vv_6', 'vh_6',\n",
       "       'vv_9', 'vh_9', 'vv_10', 'vh_10'],\n",
       "      dtype='object')"
      ]
     },
     "execution_count": 29,
     "metadata": {},
     "output_type": "execute_result"
    }
   ],
   "source": [
    "original.columns"
   ]
  },
  {
   "cell_type": "code",
   "execution_count": 32,
   "id": "23fed50f-accd-48d9-aa89-9b2b5a7d5c3e",
   "metadata": {},
   "outputs": [],
   "source": [
    "for string in mon:\n",
    "    second_def(original,string)"
   ]
  },
  {
   "cell_type": "code",
   "execution_count": 33,
   "id": "15c919c6-fce5-4f55-bdfc-fe06aff64032",
   "metadata": {},
   "outputs": [
    {
     "name": "stdout",
     "output_type": "stream",
     "text": [
      "0 Latitude and Longitude\n",
      "0 Class of Land\n",
      "0 lati\n",
      "0 loti\n",
      "0 nir_1\n",
      "293 ndvi_1\n",
      "0 nir_2\n",
      "242 ndvi_2\n",
      "0 nir_3\n",
      "282 ndvi_3\n",
      "0 nir_5\n",
      "268 ndvi_5\n",
      "0 nir_6\n",
      "279 ndvi_6\n",
      "0 nir_9\n",
      "373 ndvi_9\n",
      "0 nir_10\n",
      "330 ndvi_10\n",
      "0 vv_1\n",
      "0 vh_1\n",
      "0 vv_2\n",
      "0 vh_2\n",
      "0 vv_3\n",
      "0 vh_3\n",
      "0 vv_5\n",
      "0 vh_5\n",
      "0 vv_6\n",
      "0 vh_6\n",
      "0 vv_9\n",
      "0 vh_9\n",
      "0 vv_10\n",
      "0 vh_10\n"
     ]
    }
   ],
   "source": [
    "for x in original.columns:\n",
    "    print(original[x].isnull().sum(), x)"
   ]
  },
  {
   "cell_type": "code",
   "execution_count": 34,
   "id": "3cb1e2d7-9404-4b7b-95be-9ff949912f93",
   "metadata": {},
   "outputs": [
    {
     "data": {
      "text/plain": [
       "Index(['Latitude and Longitude', 'Class of Land', 'lati', 'loti', 'nir_1',\n",
       "       'ndvi_1', 'nir_2', 'ndvi_2', 'nir_3', 'ndvi_3', 'nir_5', 'ndvi_5',\n",
       "       'nir_6', 'ndvi_6', 'nir_9', 'ndvi_9', 'nir_10', 'ndvi_10', 'vv_1',\n",
       "       'vh_1', 'vv_2', 'vh_2', 'vv_3', 'vh_3', 'vv_5', 'vh_5', 'vv_6', 'vh_6',\n",
       "       'vv_9', 'vh_9', 'vv_10', 'vh_10'],\n",
       "      dtype='object')"
      ]
     },
     "execution_count": 34,
     "metadata": {},
     "output_type": "execute_result"
    }
   ],
   "source": [
    "original.columns"
   ]
  },
  {
   "cell_type": "code",
   "execution_count": 37,
   "id": "92ee8e2e-ad7e-4077-84ab-432c625d5859",
   "metadata": {},
   "outputs": [],
   "source": [
    "valid_rows=original[['Latitude and Longitude', 'Class of Land', 'lati', 'loti', 'nir_1',\n",
    "       'ndvi_1', 'nir_2', 'ndvi_2', 'nir_3', 'ndvi_3', 'nir_5', 'ndvi_5',\n",
    "       'nir_6', 'ndvi_6', 'nir_9', 'ndvi_9', 'nir_10', 'ndvi_10', 'vv_1',\n",
    "       'vh_1', 'vv_2', 'vh_2', 'vv_3', 'vh_3', 'vv_5', 'vh_5', 'vv_6', 'vh_6',\n",
    "       'vv_9', 'vh_9', 'vv_10', 'vh_10']].notnull().all(1)"
   ]
  },
  {
   "cell_type": "code",
   "execution_count": 38,
   "id": "98ff3249-e026-4e4b-aff5-a9fc2e2f2dd7",
   "metadata": {},
   "outputs": [],
   "source": [
    "ori_null=original[~valid_rows]\n",
    "ori_not_null=original[valid_rows]"
   ]
  },
  {
   "cell_type": "code",
   "execution_count": 39,
   "id": "dcd0b788-ab5b-41ab-bcbc-f919b563da71",
   "metadata": {},
   "outputs": [],
   "source": [
    "copy_1=ori_null.copy()\n",
    "copy_2=ori_not_null.copy()"
   ]
  },
  {
   "cell_type": "code",
   "execution_count": 40,
   "id": "5ffc19c4-f5c1-48ba-bcd2-6a92bdd32ef8",
   "metadata": {},
   "outputs": [
    {
     "data": {
      "text/plain": [
       "(429, 171)"
      ]
     },
     "execution_count": 40,
     "metadata": {},
     "output_type": "execute_result"
    }
   ],
   "source": [
    "len(copy_1), len(copy_2)"
   ]
  },
  {
   "cell_type": "code",
   "execution_count": null,
   "id": "4fe44d65-8619-4fd5-aebc-03390ab74f91",
   "metadata": {},
   "outputs": [],
   "source": []
  },
  {
   "cell_type": "code",
   "execution_count": null,
   "id": "c48ff78d-be01-4d66-ba45-752ede49ad27",
   "metadata": {},
   "outputs": [],
   "source": []
  },
  {
   "cell_type": "code",
   "execution_count": null,
   "id": "7553b933-4fff-4c2f-94e9-5bba2ed32ab7",
   "metadata": {},
   "outputs": [],
   "source": []
  },
  {
   "cell_type": "code",
   "execution_count": null,
   "id": "dee0293f-6bf5-478c-bd1d-81378a4eb8a9",
   "metadata": {},
   "outputs": [],
   "source": []
  },
  {
   "cell_type": "markdown",
   "id": "81814b69-c6b5-4b15-8792-e27d3f178ca1",
   "metadata": {},
   "source": [
    "copy['mean_ndvi']=copy[['ndvi_2','ndvi_3','ndvi_5','ndvi_6','ndvi_9','ndvi_10']].mean(axis=1)"
   ]
  },
  {
   "cell_type": "markdown",
   "id": "7ebbe3f8-74d5-4eec-9509-183939a82dd7",
   "metadata": {},
   "source": [
    "copy.columns"
   ]
  },
  {
   "cell_type": "code",
   "execution_count": 41,
   "id": "2d20ec88-e464-4f83-bdd8-070ae2f60b5f",
   "metadata": {},
   "outputs": [],
   "source": [
    "#crop_data=copy[['lati','loti','ndvi_2','ndvi_3','ndvi_5','ndvi_6','ndvi_9','ndvi_10','Class of Land']]\n",
    "#crop_data=copy[['lati','loti','mean_ndvi','Class of Land']]\n",
    "crop_data_null=copy_1[['Class of Land', 'lati', 'loti', 'vv_1',\n",
    "       'vh_1', 'vv_2', 'vh_2', 'vv_3', 'vh_3', 'vv_5', 'vh_5', 'vv_6', 'vh_6',\n",
    "       'vv_9', 'vh_9', 'vv_10', 'vh_10']]\n",
    "\n",
    "crop_data_not_null=copy_2[['Class of Land', 'lati', 'loti', 'nir_1',\n",
    "       'ndvi_1', 'nir_2', 'ndvi_2', 'nir_3', 'ndvi_3', 'nir_5', 'ndvi_5',\n",
    "       'nir_6', 'ndvi_6', 'nir_9', 'ndvi_9', 'nir_10', 'ndvi_10', 'vv_1',\n",
    "       'vh_1', 'vv_2', 'vh_2', 'vv_3', 'vh_3', 'vv_5', 'vh_5', 'vv_6', 'vh_6',\n",
    "       'vv_9', 'vh_9', 'vv_10', 'vh_10']]"
   ]
  },
  {
   "cell_type": "markdown",
   "id": "0e03f13d-1648-4c8b-8491-19a54dd9ff85",
   "metadata": {},
   "source": [
    "## Rows with Null values"
   ]
  },
  {
   "cell_type": "code",
   "execution_count": 43,
   "id": "e141a751-e93d-402f-a88c-eef3911bf57e",
   "metadata": {
    "jupyter": {
     "source_hidden": true
    },
    "tags": []
   },
   "outputs": [],
   "source": [
    "X_null=crop_data_null.drop(columns=['Class of Land']).values\n",
    "y_null=crop_data_null['Class of Land'].values\n",
    "\n",
    "X_train, X_test, y_train, y_test = train_test_split(X_null,y_null,test_size=0.3, stratify=y_null,random_state=40)"
   ]
  },
  {
   "cell_type": "code",
   "execution_count": 48,
   "id": "f09ad08c-d8b7-4aa6-bfed-fbfc281f81ba",
   "metadata": {},
   "outputs": [
    {
     "data": {
      "text/html": [
       "<style>#sk-container-id-1 {color: black;background-color: white;}#sk-container-id-1 pre{padding: 0;}#sk-container-id-1 div.sk-toggleable {background-color: white;}#sk-container-id-1 label.sk-toggleable__label {cursor: pointer;display: block;width: 100%;margin-bottom: 0;padding: 0.3em;box-sizing: border-box;text-align: center;}#sk-container-id-1 label.sk-toggleable__label-arrow:before {content: \"▸\";float: left;margin-right: 0.25em;color: #696969;}#sk-container-id-1 label.sk-toggleable__label-arrow:hover:before {color: black;}#sk-container-id-1 div.sk-estimator:hover label.sk-toggleable__label-arrow:before {color: black;}#sk-container-id-1 div.sk-toggleable__content {max-height: 0;max-width: 0;overflow: hidden;text-align: left;background-color: #f0f8ff;}#sk-container-id-1 div.sk-toggleable__content pre {margin: 0.2em;color: black;border-radius: 0.25em;background-color: #f0f8ff;}#sk-container-id-1 input.sk-toggleable__control:checked~div.sk-toggleable__content {max-height: 200px;max-width: 100%;overflow: auto;}#sk-container-id-1 input.sk-toggleable__control:checked~label.sk-toggleable__label-arrow:before {content: \"▾\";}#sk-container-id-1 div.sk-estimator input.sk-toggleable__control:checked~label.sk-toggleable__label {background-color: #d4ebff;}#sk-container-id-1 div.sk-label input.sk-toggleable__control:checked~label.sk-toggleable__label {background-color: #d4ebff;}#sk-container-id-1 input.sk-hidden--visually {border: 0;clip: rect(1px 1px 1px 1px);clip: rect(1px, 1px, 1px, 1px);height: 1px;margin: -1px;overflow: hidden;padding: 0;position: absolute;width: 1px;}#sk-container-id-1 div.sk-estimator {font-family: monospace;background-color: #f0f8ff;border: 1px dotted black;border-radius: 0.25em;box-sizing: border-box;margin-bottom: 0.5em;}#sk-container-id-1 div.sk-estimator:hover {background-color: #d4ebff;}#sk-container-id-1 div.sk-parallel-item::after {content: \"\";width: 100%;border-bottom: 1px solid gray;flex-grow: 1;}#sk-container-id-1 div.sk-label:hover label.sk-toggleable__label {background-color: #d4ebff;}#sk-container-id-1 div.sk-serial::before {content: \"\";position: absolute;border-left: 1px solid gray;box-sizing: border-box;top: 0;bottom: 0;left: 50%;z-index: 0;}#sk-container-id-1 div.sk-serial {display: flex;flex-direction: column;align-items: center;background-color: white;padding-right: 0.2em;padding-left: 0.2em;position: relative;}#sk-container-id-1 div.sk-item {position: relative;z-index: 1;}#sk-container-id-1 div.sk-parallel {display: flex;align-items: stretch;justify-content: center;background-color: white;position: relative;}#sk-container-id-1 div.sk-item::before, #sk-container-id-1 div.sk-parallel-item::before {content: \"\";position: absolute;border-left: 1px solid gray;box-sizing: border-box;top: 0;bottom: 0;left: 50%;z-index: -1;}#sk-container-id-1 div.sk-parallel-item {display: flex;flex-direction: column;z-index: 1;position: relative;background-color: white;}#sk-container-id-1 div.sk-parallel-item:first-child::after {align-self: flex-end;width: 50%;}#sk-container-id-1 div.sk-parallel-item:last-child::after {align-self: flex-start;width: 50%;}#sk-container-id-1 div.sk-parallel-item:only-child::after {width: 0;}#sk-container-id-1 div.sk-dashed-wrapped {border: 1px dashed gray;margin: 0 0.4em 0.5em 0.4em;box-sizing: border-box;padding-bottom: 0.4em;background-color: white;}#sk-container-id-1 div.sk-label label {font-family: monospace;font-weight: bold;display: inline-block;line-height: 1.2em;}#sk-container-id-1 div.sk-label-container {text-align: center;}#sk-container-id-1 div.sk-container {/* jupyter's `normalize.less` sets `[hidden] { display: none; }` but bootstrap.min.css set `[hidden] { display: none !important; }` so we also need the `!important` here to be able to override the default hidden behavior on the sphinx rendered scikit-learn.org. See: https://github.com/scikit-learn/scikit-learn/issues/21755 */display: inline-block !important;position: relative;}#sk-container-id-1 div.sk-text-repr-fallback {display: none;}</style><div id=\"sk-container-id-1\" class=\"sk-top-container\"><div class=\"sk-text-repr-fallback\"><pre>VotingClassifier(estimators=[(&#x27;lr&#x27;,\n",
       "                              LogisticRegression(multi_class=&#x27;multinomial&#x27;,\n",
       "                                                 random_state=1)),\n",
       "                             (&#x27;rf&#x27;,\n",
       "                              RandomForestClassifier(n_estimators=50,\n",
       "                                                     random_state=1)),\n",
       "                             (&#x27;gnb&#x27;, GaussianNB()),\n",
       "                             (&#x27;xgb&#x27;,\n",
       "                              XGBClassifier(base_score=None, booster=None,\n",
       "                                            callbacks=None,\n",
       "                                            colsample_bylevel=None,\n",
       "                                            colsample_bynode=None,\n",
       "                                            colsample_bytree=None,\n",
       "                                            early_stopping_rounds=None,\n",
       "                                            enable_cate...\n",
       "                                            learning_rate=None, max_bin=None,\n",
       "                                            max_cat_threshold=None,\n",
       "                                            max_cat_to_onehot=None,\n",
       "                                            max_delta_step=None, max_depth=None,\n",
       "                                            max_leaves=None,\n",
       "                                            min_child_weight=None, missing=nan,\n",
       "                                            monotone_constraints=None,\n",
       "                                            n_estimators=100, n_jobs=None,\n",
       "                                            num_parallel_tree=None,\n",
       "                                            predictor=None, random_state=None, ...)),\n",
       "                             (&#x27;gbc&#x27;, GradientBoostingClassifier()),\n",
       "                             (&#x27;dt&#x27;, DecisionTreeClassifier())])</pre><b>In a Jupyter environment, please rerun this cell to show the HTML representation or trust the notebook. <br />On GitHub, the HTML representation is unable to render, please try loading this page with nbviewer.org.</b></div><div class=\"sk-container\" hidden><div class=\"sk-item sk-dashed-wrapped\"><div class=\"sk-label-container\"><div class=\"sk-label sk-toggleable\"><input class=\"sk-toggleable__control sk-hidden--visually\" id=\"sk-estimator-id-1\" type=\"checkbox\" ><label for=\"sk-estimator-id-1\" class=\"sk-toggleable__label sk-toggleable__label-arrow\">VotingClassifier</label><div class=\"sk-toggleable__content\"><pre>VotingClassifier(estimators=[(&#x27;lr&#x27;,\n",
       "                              LogisticRegression(multi_class=&#x27;multinomial&#x27;,\n",
       "                                                 random_state=1)),\n",
       "                             (&#x27;rf&#x27;,\n",
       "                              RandomForestClassifier(n_estimators=50,\n",
       "                                                     random_state=1)),\n",
       "                             (&#x27;gnb&#x27;, GaussianNB()),\n",
       "                             (&#x27;xgb&#x27;,\n",
       "                              XGBClassifier(base_score=None, booster=None,\n",
       "                                            callbacks=None,\n",
       "                                            colsample_bylevel=None,\n",
       "                                            colsample_bynode=None,\n",
       "                                            colsample_bytree=None,\n",
       "                                            early_stopping_rounds=None,\n",
       "                                            enable_cate...\n",
       "                                            learning_rate=None, max_bin=None,\n",
       "                                            max_cat_threshold=None,\n",
       "                                            max_cat_to_onehot=None,\n",
       "                                            max_delta_step=None, max_depth=None,\n",
       "                                            max_leaves=None,\n",
       "                                            min_child_weight=None, missing=nan,\n",
       "                                            monotone_constraints=None,\n",
       "                                            n_estimators=100, n_jobs=None,\n",
       "                                            num_parallel_tree=None,\n",
       "                                            predictor=None, random_state=None, ...)),\n",
       "                             (&#x27;gbc&#x27;, GradientBoostingClassifier()),\n",
       "                             (&#x27;dt&#x27;, DecisionTreeClassifier())])</pre></div></div></div><div class=\"sk-parallel\"><div class=\"sk-parallel-item\"><div class=\"sk-item\"><div class=\"sk-label-container\"><div class=\"sk-label sk-toggleable\"><label>lr</label></div></div><div class=\"sk-serial\"><div class=\"sk-item\"><div class=\"sk-estimator sk-toggleable\"><input class=\"sk-toggleable__control sk-hidden--visually\" id=\"sk-estimator-id-2\" type=\"checkbox\" ><label for=\"sk-estimator-id-2\" class=\"sk-toggleable__label sk-toggleable__label-arrow\">LogisticRegression</label><div class=\"sk-toggleable__content\"><pre>LogisticRegression(multi_class=&#x27;multinomial&#x27;, random_state=1)</pre></div></div></div></div></div></div><div class=\"sk-parallel-item\"><div class=\"sk-item\"><div class=\"sk-label-container\"><div class=\"sk-label sk-toggleable\"><label>rf</label></div></div><div class=\"sk-serial\"><div class=\"sk-item\"><div class=\"sk-estimator sk-toggleable\"><input class=\"sk-toggleable__control sk-hidden--visually\" id=\"sk-estimator-id-3\" type=\"checkbox\" ><label for=\"sk-estimator-id-3\" class=\"sk-toggleable__label sk-toggleable__label-arrow\">RandomForestClassifier</label><div class=\"sk-toggleable__content\"><pre>RandomForestClassifier(n_estimators=50, random_state=1)</pre></div></div></div></div></div></div><div class=\"sk-parallel-item\"><div class=\"sk-item\"><div class=\"sk-label-container\"><div class=\"sk-label sk-toggleable\"><label>gnb</label></div></div><div class=\"sk-serial\"><div class=\"sk-item\"><div class=\"sk-estimator sk-toggleable\"><input class=\"sk-toggleable__control sk-hidden--visually\" id=\"sk-estimator-id-4\" type=\"checkbox\" ><label for=\"sk-estimator-id-4\" class=\"sk-toggleable__label sk-toggleable__label-arrow\">GaussianNB</label><div class=\"sk-toggleable__content\"><pre>GaussianNB()</pre></div></div></div></div></div></div><div class=\"sk-parallel-item\"><div class=\"sk-item\"><div class=\"sk-label-container\"><div class=\"sk-label sk-toggleable\"><label>xgb</label></div></div><div class=\"sk-serial\"><div class=\"sk-item\"><div class=\"sk-estimator sk-toggleable\"><input class=\"sk-toggleable__control sk-hidden--visually\" id=\"sk-estimator-id-5\" type=\"checkbox\" ><label for=\"sk-estimator-id-5\" class=\"sk-toggleable__label sk-toggleable__label-arrow\">XGBClassifier</label><div class=\"sk-toggleable__content\"><pre>XGBClassifier(base_score=None, booster=None, callbacks=None,\n",
       "              colsample_bylevel=None, colsample_bynode=None,\n",
       "              colsample_bytree=None, early_stopping_rounds=None,\n",
       "              enable_categorical=False, eval_metric=None, feature_types=None,\n",
       "              gamma=None, gpu_id=None, grow_policy=None, importance_type=None,\n",
       "              interaction_constraints=None, learning_rate=None, max_bin=None,\n",
       "              max_cat_threshold=None, max_cat_to_onehot=None,\n",
       "              max_delta_step=None, max_depth=None, max_leaves=None,\n",
       "              min_child_weight=None, missing=nan, monotone_constraints=None,\n",
       "              n_estimators=100, n_jobs=None, num_parallel_tree=None,\n",
       "              predictor=None, random_state=None, ...)</pre></div></div></div></div></div></div><div class=\"sk-parallel-item\"><div class=\"sk-item\"><div class=\"sk-label-container\"><div class=\"sk-label sk-toggleable\"><label>gbc</label></div></div><div class=\"sk-serial\"><div class=\"sk-item\"><div class=\"sk-estimator sk-toggleable\"><input class=\"sk-toggleable__control sk-hidden--visually\" id=\"sk-estimator-id-6\" type=\"checkbox\" ><label for=\"sk-estimator-id-6\" class=\"sk-toggleable__label sk-toggleable__label-arrow\">GradientBoostingClassifier</label><div class=\"sk-toggleable__content\"><pre>GradientBoostingClassifier()</pre></div></div></div></div></div></div><div class=\"sk-parallel-item\"><div class=\"sk-item\"><div class=\"sk-label-container\"><div class=\"sk-label sk-toggleable\"><label>dt</label></div></div><div class=\"sk-serial\"><div class=\"sk-item\"><div class=\"sk-estimator sk-toggleable\"><input class=\"sk-toggleable__control sk-hidden--visually\" id=\"sk-estimator-id-7\" type=\"checkbox\" ><label for=\"sk-estimator-id-7\" class=\"sk-toggleable__label sk-toggleable__label-arrow\">DecisionTreeClassifier</label><div class=\"sk-toggleable__content\"><pre>DecisionTreeClassifier()</pre></div></div></div></div></div></div></div></div></div></div>"
      ],
      "text/plain": [
       "VotingClassifier(estimators=[('lr',\n",
       "                              LogisticRegression(multi_class='multinomial',\n",
       "                                                 random_state=1)),\n",
       "                             ('rf',\n",
       "                              RandomForestClassifier(n_estimators=50,\n",
       "                                                     random_state=1)),\n",
       "                             ('gnb', GaussianNB()),\n",
       "                             ('xgb',\n",
       "                              XGBClassifier(base_score=None, booster=None,\n",
       "                                            callbacks=None,\n",
       "                                            colsample_bylevel=None,\n",
       "                                            colsample_bynode=None,\n",
       "                                            colsample_bytree=None,\n",
       "                                            early_stopping_rounds=None,\n",
       "                                            enable_cate...\n",
       "                                            learning_rate=None, max_bin=None,\n",
       "                                            max_cat_threshold=None,\n",
       "                                            max_cat_to_onehot=None,\n",
       "                                            max_delta_step=None, max_depth=None,\n",
       "                                            max_leaves=None,\n",
       "                                            min_child_weight=None, missing=nan,\n",
       "                                            monotone_constraints=None,\n",
       "                                            n_estimators=100, n_jobs=None,\n",
       "                                            num_parallel_tree=None,\n",
       "                                            predictor=None, random_state=None, ...)),\n",
       "                             ('gbc', GradientBoostingClassifier()),\n",
       "                             ('dt', DecisionTreeClassifier())])"
      ]
     },
     "execution_count": 48,
     "metadata": {},
     "output_type": "execute_result"
    }
   ],
   "source": [
    "clf1 = LogisticRegression(multi_class='multinomial', random_state=1)\n",
    "clf2 = RandomForestClassifier(n_estimators=50, random_state=1)\n",
    "clf3 = GaussianNB()\n",
    "clf4 = XGBClassifier()\n",
    "clf5 = GradientBoostingClassifier()\n",
    "clf6 = DecisionTreeClassifier()\n",
    "\n",
    "eclf1 = VotingClassifier(estimators=[('lr', clf1), ('rf', clf2), ('gnb', clf3),('xgb',clf4),('gbc',clf5),('dt',clf6)], voting='hard')\n",
    "eclf1.fit(X_train, y_train)"
   ]
  },
  {
   "cell_type": "markdown",
   "id": "cefb5ca3-d402-4921-a0e7-cf7c0cf8e8c2",
   "metadata": {},
   "source": [
    "model=LogisticRegression(solver='lbfgs')\n",
    "model.fit(X_train, y_train)"
   ]
  },
  {
   "cell_type": "code",
   "execution_count": 49,
   "id": "bc810fea-f3a9-458b-9e77-a4284b193897",
   "metadata": {},
   "outputs": [],
   "source": [
    "insample_predictions=eclf1.predict(X_train)"
   ]
  },
  {
   "cell_type": "code",
   "execution_count": 50,
   "id": "edc2086f-cc9a-42f0-8e6a-5bfd8b2c7fdc",
   "metadata": {},
   "outputs": [
    {
     "name": "stdout",
     "output_type": "stream",
     "text": [
      "              precision    recall  f1-score   support\n",
      "\n",
      "    Non Rice       1.00      1.00      1.00       176\n",
      "        Rice       1.00      1.00      1.00       124\n",
      "\n",
      "    accuracy                           1.00       300\n",
      "   macro avg       1.00      1.00      1.00       300\n",
      "weighted avg       1.00      1.00      1.00       300\n",
      "\n"
     ]
    }
   ],
   "source": [
    "print(classification_report(insample_predictions, y_train))"
   ]
  },
  {
   "cell_type": "code",
   "execution_count": 51,
   "id": "83fc94cd-3bfe-4387-9059-62c926966460",
   "metadata": {},
   "outputs": [],
   "source": [
    "outsample_predictions=eclf1.predict(X_test)"
   ]
  },
  {
   "cell_type": "code",
   "execution_count": 52,
   "id": "556414a1-9fd2-48b4-a776-29645ab95f0b",
   "metadata": {},
   "outputs": [
    {
     "name": "stdout",
     "output_type": "stream",
     "text": [
      "              precision    recall  f1-score   support\n",
      "\n",
      "    Non Rice       1.00      1.00      1.00        75\n",
      "        Rice       1.00      1.00      1.00        54\n",
      "\n",
      "    accuracy                           1.00       129\n",
      "   macro avg       1.00      1.00      1.00       129\n",
      "weighted avg       1.00      1.00      1.00       129\n",
      "\n"
     ]
    }
   ],
   "source": [
    "print(classification_report(outsample_predictions, y_test))"
   ]
  },
  {
   "cell_type": "markdown",
   "id": "bcaa1939-8a83-4109-9a98-0b2a732533e0",
   "metadata": {},
   "source": [
    "## Rows with whole variables"
   ]
  },
  {
   "cell_type": "code",
   "execution_count": 53,
   "id": "687a476d-0ce9-4b7b-91d5-bf31c1d1a6ad",
   "metadata": {},
   "outputs": [],
   "source": [
    "X_not_null=crop_data_not_null.drop(columns=['Class of Land']).values\n",
    "y_not_null=crop_data_not_null['Class of Land'].values\n",
    "\n",
    "X_train, X_test, y_train, y_test = train_test_split(X_not_null,y_not_null,test_size=0.3, stratify=y_not_null,random_state=40)"
   ]
  },
  {
   "cell_type": "code",
   "execution_count": 55,
   "id": "e0d29336-2295-4b0a-80cd-98382fd11ea7",
   "metadata": {},
   "outputs": [
    {
     "data": {
      "text/html": [
       "<style>#sk-container-id-2 {color: black;background-color: white;}#sk-container-id-2 pre{padding: 0;}#sk-container-id-2 div.sk-toggleable {background-color: white;}#sk-container-id-2 label.sk-toggleable__label {cursor: pointer;display: block;width: 100%;margin-bottom: 0;padding: 0.3em;box-sizing: border-box;text-align: center;}#sk-container-id-2 label.sk-toggleable__label-arrow:before {content: \"▸\";float: left;margin-right: 0.25em;color: #696969;}#sk-container-id-2 label.sk-toggleable__label-arrow:hover:before {color: black;}#sk-container-id-2 div.sk-estimator:hover label.sk-toggleable__label-arrow:before {color: black;}#sk-container-id-2 div.sk-toggleable__content {max-height: 0;max-width: 0;overflow: hidden;text-align: left;background-color: #f0f8ff;}#sk-container-id-2 div.sk-toggleable__content pre {margin: 0.2em;color: black;border-radius: 0.25em;background-color: #f0f8ff;}#sk-container-id-2 input.sk-toggleable__control:checked~div.sk-toggleable__content {max-height: 200px;max-width: 100%;overflow: auto;}#sk-container-id-2 input.sk-toggleable__control:checked~label.sk-toggleable__label-arrow:before {content: \"▾\";}#sk-container-id-2 div.sk-estimator input.sk-toggleable__control:checked~label.sk-toggleable__label {background-color: #d4ebff;}#sk-container-id-2 div.sk-label input.sk-toggleable__control:checked~label.sk-toggleable__label {background-color: #d4ebff;}#sk-container-id-2 input.sk-hidden--visually {border: 0;clip: rect(1px 1px 1px 1px);clip: rect(1px, 1px, 1px, 1px);height: 1px;margin: -1px;overflow: hidden;padding: 0;position: absolute;width: 1px;}#sk-container-id-2 div.sk-estimator {font-family: monospace;background-color: #f0f8ff;border: 1px dotted black;border-radius: 0.25em;box-sizing: border-box;margin-bottom: 0.5em;}#sk-container-id-2 div.sk-estimator:hover {background-color: #d4ebff;}#sk-container-id-2 div.sk-parallel-item::after {content: \"\";width: 100%;border-bottom: 1px solid gray;flex-grow: 1;}#sk-container-id-2 div.sk-label:hover label.sk-toggleable__label {background-color: #d4ebff;}#sk-container-id-2 div.sk-serial::before {content: \"\";position: absolute;border-left: 1px solid gray;box-sizing: border-box;top: 0;bottom: 0;left: 50%;z-index: 0;}#sk-container-id-2 div.sk-serial {display: flex;flex-direction: column;align-items: center;background-color: white;padding-right: 0.2em;padding-left: 0.2em;position: relative;}#sk-container-id-2 div.sk-item {position: relative;z-index: 1;}#sk-container-id-2 div.sk-parallel {display: flex;align-items: stretch;justify-content: center;background-color: white;position: relative;}#sk-container-id-2 div.sk-item::before, #sk-container-id-2 div.sk-parallel-item::before {content: \"\";position: absolute;border-left: 1px solid gray;box-sizing: border-box;top: 0;bottom: 0;left: 50%;z-index: -1;}#sk-container-id-2 div.sk-parallel-item {display: flex;flex-direction: column;z-index: 1;position: relative;background-color: white;}#sk-container-id-2 div.sk-parallel-item:first-child::after {align-self: flex-end;width: 50%;}#sk-container-id-2 div.sk-parallel-item:last-child::after {align-self: flex-start;width: 50%;}#sk-container-id-2 div.sk-parallel-item:only-child::after {width: 0;}#sk-container-id-2 div.sk-dashed-wrapped {border: 1px dashed gray;margin: 0 0.4em 0.5em 0.4em;box-sizing: border-box;padding-bottom: 0.4em;background-color: white;}#sk-container-id-2 div.sk-label label {font-family: monospace;font-weight: bold;display: inline-block;line-height: 1.2em;}#sk-container-id-2 div.sk-label-container {text-align: center;}#sk-container-id-2 div.sk-container {/* jupyter's `normalize.less` sets `[hidden] { display: none; }` but bootstrap.min.css set `[hidden] { display: none !important; }` so we also need the `!important` here to be able to override the default hidden behavior on the sphinx rendered scikit-learn.org. See: https://github.com/scikit-learn/scikit-learn/issues/21755 */display: inline-block !important;position: relative;}#sk-container-id-2 div.sk-text-repr-fallback {display: none;}</style><div id=\"sk-container-id-2\" class=\"sk-top-container\"><div class=\"sk-text-repr-fallback\"><pre>VotingClassifier(estimators=[(&#x27;lr&#x27;,\n",
       "                              LogisticRegression(multi_class=&#x27;multinomial&#x27;,\n",
       "                                                 random_state=1)),\n",
       "                             (&#x27;rf&#x27;,\n",
       "                              RandomForestClassifier(n_estimators=50,\n",
       "                                                     random_state=1)),\n",
       "                             (&#x27;gnb&#x27;, GaussianNB()),\n",
       "                             (&#x27;xgb&#x27;,\n",
       "                              XGBClassifier(base_score=None, booster=None,\n",
       "                                            callbacks=None,\n",
       "                                            colsample_bylevel=None,\n",
       "                                            colsample_bynode=None,\n",
       "                                            colsample_bytree=None,\n",
       "                                            early_stopping_rounds=None,\n",
       "                                            enable_cate...\n",
       "                                            learning_rate=None, max_bin=None,\n",
       "                                            max_cat_threshold=None,\n",
       "                                            max_cat_to_onehot=None,\n",
       "                                            max_delta_step=None, max_depth=None,\n",
       "                                            max_leaves=None,\n",
       "                                            min_child_weight=None, missing=nan,\n",
       "                                            monotone_constraints=None,\n",
       "                                            n_estimators=100, n_jobs=None,\n",
       "                                            num_parallel_tree=None,\n",
       "                                            predictor=None, random_state=None, ...)),\n",
       "                             (&#x27;gbc&#x27;, GradientBoostingClassifier()),\n",
       "                             (&#x27;dt&#x27;, DecisionTreeClassifier())])</pre><b>In a Jupyter environment, please rerun this cell to show the HTML representation or trust the notebook. <br />On GitHub, the HTML representation is unable to render, please try loading this page with nbviewer.org.</b></div><div class=\"sk-container\" hidden><div class=\"sk-item sk-dashed-wrapped\"><div class=\"sk-label-container\"><div class=\"sk-label sk-toggleable\"><input class=\"sk-toggleable__control sk-hidden--visually\" id=\"sk-estimator-id-8\" type=\"checkbox\" ><label for=\"sk-estimator-id-8\" class=\"sk-toggleable__label sk-toggleable__label-arrow\">VotingClassifier</label><div class=\"sk-toggleable__content\"><pre>VotingClassifier(estimators=[(&#x27;lr&#x27;,\n",
       "                              LogisticRegression(multi_class=&#x27;multinomial&#x27;,\n",
       "                                                 random_state=1)),\n",
       "                             (&#x27;rf&#x27;,\n",
       "                              RandomForestClassifier(n_estimators=50,\n",
       "                                                     random_state=1)),\n",
       "                             (&#x27;gnb&#x27;, GaussianNB()),\n",
       "                             (&#x27;xgb&#x27;,\n",
       "                              XGBClassifier(base_score=None, booster=None,\n",
       "                                            callbacks=None,\n",
       "                                            colsample_bylevel=None,\n",
       "                                            colsample_bynode=None,\n",
       "                                            colsample_bytree=None,\n",
       "                                            early_stopping_rounds=None,\n",
       "                                            enable_cate...\n",
       "                                            learning_rate=None, max_bin=None,\n",
       "                                            max_cat_threshold=None,\n",
       "                                            max_cat_to_onehot=None,\n",
       "                                            max_delta_step=None, max_depth=None,\n",
       "                                            max_leaves=None,\n",
       "                                            min_child_weight=None, missing=nan,\n",
       "                                            monotone_constraints=None,\n",
       "                                            n_estimators=100, n_jobs=None,\n",
       "                                            num_parallel_tree=None,\n",
       "                                            predictor=None, random_state=None, ...)),\n",
       "                             (&#x27;gbc&#x27;, GradientBoostingClassifier()),\n",
       "                             (&#x27;dt&#x27;, DecisionTreeClassifier())])</pre></div></div></div><div class=\"sk-parallel\"><div class=\"sk-parallel-item\"><div class=\"sk-item\"><div class=\"sk-label-container\"><div class=\"sk-label sk-toggleable\"><label>lr</label></div></div><div class=\"sk-serial\"><div class=\"sk-item\"><div class=\"sk-estimator sk-toggleable\"><input class=\"sk-toggleable__control sk-hidden--visually\" id=\"sk-estimator-id-9\" type=\"checkbox\" ><label for=\"sk-estimator-id-9\" class=\"sk-toggleable__label sk-toggleable__label-arrow\">LogisticRegression</label><div class=\"sk-toggleable__content\"><pre>LogisticRegression(multi_class=&#x27;multinomial&#x27;, random_state=1)</pre></div></div></div></div></div></div><div class=\"sk-parallel-item\"><div class=\"sk-item\"><div class=\"sk-label-container\"><div class=\"sk-label sk-toggleable\"><label>rf</label></div></div><div class=\"sk-serial\"><div class=\"sk-item\"><div class=\"sk-estimator sk-toggleable\"><input class=\"sk-toggleable__control sk-hidden--visually\" id=\"sk-estimator-id-10\" type=\"checkbox\" ><label for=\"sk-estimator-id-10\" class=\"sk-toggleable__label sk-toggleable__label-arrow\">RandomForestClassifier</label><div class=\"sk-toggleable__content\"><pre>RandomForestClassifier(n_estimators=50, random_state=1)</pre></div></div></div></div></div></div><div class=\"sk-parallel-item\"><div class=\"sk-item\"><div class=\"sk-label-container\"><div class=\"sk-label sk-toggleable\"><label>gnb</label></div></div><div class=\"sk-serial\"><div class=\"sk-item\"><div class=\"sk-estimator sk-toggleable\"><input class=\"sk-toggleable__control sk-hidden--visually\" id=\"sk-estimator-id-11\" type=\"checkbox\" ><label for=\"sk-estimator-id-11\" class=\"sk-toggleable__label sk-toggleable__label-arrow\">GaussianNB</label><div class=\"sk-toggleable__content\"><pre>GaussianNB()</pre></div></div></div></div></div></div><div class=\"sk-parallel-item\"><div class=\"sk-item\"><div class=\"sk-label-container\"><div class=\"sk-label sk-toggleable\"><label>xgb</label></div></div><div class=\"sk-serial\"><div class=\"sk-item\"><div class=\"sk-estimator sk-toggleable\"><input class=\"sk-toggleable__control sk-hidden--visually\" id=\"sk-estimator-id-12\" type=\"checkbox\" ><label for=\"sk-estimator-id-12\" class=\"sk-toggleable__label sk-toggleable__label-arrow\">XGBClassifier</label><div class=\"sk-toggleable__content\"><pre>XGBClassifier(base_score=None, booster=None, callbacks=None,\n",
       "              colsample_bylevel=None, colsample_bynode=None,\n",
       "              colsample_bytree=None, early_stopping_rounds=None,\n",
       "              enable_categorical=False, eval_metric=None, feature_types=None,\n",
       "              gamma=None, gpu_id=None, grow_policy=None, importance_type=None,\n",
       "              interaction_constraints=None, learning_rate=None, max_bin=None,\n",
       "              max_cat_threshold=None, max_cat_to_onehot=None,\n",
       "              max_delta_step=None, max_depth=None, max_leaves=None,\n",
       "              min_child_weight=None, missing=nan, monotone_constraints=None,\n",
       "              n_estimators=100, n_jobs=None, num_parallel_tree=None,\n",
       "              predictor=None, random_state=None, ...)</pre></div></div></div></div></div></div><div class=\"sk-parallel-item\"><div class=\"sk-item\"><div class=\"sk-label-container\"><div class=\"sk-label sk-toggleable\"><label>gbc</label></div></div><div class=\"sk-serial\"><div class=\"sk-item\"><div class=\"sk-estimator sk-toggleable\"><input class=\"sk-toggleable__control sk-hidden--visually\" id=\"sk-estimator-id-13\" type=\"checkbox\" ><label for=\"sk-estimator-id-13\" class=\"sk-toggleable__label sk-toggleable__label-arrow\">GradientBoostingClassifier</label><div class=\"sk-toggleable__content\"><pre>GradientBoostingClassifier()</pre></div></div></div></div></div></div><div class=\"sk-parallel-item\"><div class=\"sk-item\"><div class=\"sk-label-container\"><div class=\"sk-label sk-toggleable\"><label>dt</label></div></div><div class=\"sk-serial\"><div class=\"sk-item\"><div class=\"sk-estimator sk-toggleable\"><input class=\"sk-toggleable__control sk-hidden--visually\" id=\"sk-estimator-id-14\" type=\"checkbox\" ><label for=\"sk-estimator-id-14\" class=\"sk-toggleable__label sk-toggleable__label-arrow\">DecisionTreeClassifier</label><div class=\"sk-toggleable__content\"><pre>DecisionTreeClassifier()</pre></div></div></div></div></div></div></div></div></div></div>"
      ],
      "text/plain": [
       "VotingClassifier(estimators=[('lr',\n",
       "                              LogisticRegression(multi_class='multinomial',\n",
       "                                                 random_state=1)),\n",
       "                             ('rf',\n",
       "                              RandomForestClassifier(n_estimators=50,\n",
       "                                                     random_state=1)),\n",
       "                             ('gnb', GaussianNB()),\n",
       "                             ('xgb',\n",
       "                              XGBClassifier(base_score=None, booster=None,\n",
       "                                            callbacks=None,\n",
       "                                            colsample_bylevel=None,\n",
       "                                            colsample_bynode=None,\n",
       "                                            colsample_bytree=None,\n",
       "                                            early_stopping_rounds=None,\n",
       "                                            enable_cate...\n",
       "                                            learning_rate=None, max_bin=None,\n",
       "                                            max_cat_threshold=None,\n",
       "                                            max_cat_to_onehot=None,\n",
       "                                            max_delta_step=None, max_depth=None,\n",
       "                                            max_leaves=None,\n",
       "                                            min_child_weight=None, missing=nan,\n",
       "                                            monotone_constraints=None,\n",
       "                                            n_estimators=100, n_jobs=None,\n",
       "                                            num_parallel_tree=None,\n",
       "                                            predictor=None, random_state=None, ...)),\n",
       "                             ('gbc', GradientBoostingClassifier()),\n",
       "                             ('dt', DecisionTreeClassifier())])"
      ]
     },
     "execution_count": 55,
     "metadata": {},
     "output_type": "execute_result"
    }
   ],
   "source": [
    "clf1 = LogisticRegression(multi_class='multinomial', random_state=1)\n",
    "clf2 = RandomForestClassifier(n_estimators=50, random_state=1)\n",
    "clf3 = GaussianNB()\n",
    "clf4 = XGBClassifier()\n",
    "clf5 = GradientBoostingClassifier()\n",
    "clf6 = DecisionTreeClassifier()\n",
    "\n",
    "eclf2 = VotingClassifier(estimators=[('lr', clf1), ('rf', clf2), ('gnb', clf3),('xgb',clf4),('gbc',clf5),('dt',clf6)], voting='hard')\n",
    "eclf2.fit(X_train, y_train)"
   ]
  },
  {
   "cell_type": "code",
   "execution_count": 56,
   "id": "30841558-3987-4553-8564-57abfc50bc3d",
   "metadata": {},
   "outputs": [],
   "source": [
    "insample_predictions=eclf2.predict(X_train)"
   ]
  },
  {
   "cell_type": "code",
   "execution_count": 57,
   "id": "66e2f56d-069f-45e3-9325-360636f4fd8c",
   "metadata": {},
   "outputs": [
    {
     "name": "stdout",
     "output_type": "stream",
     "text": [
      "              precision    recall  f1-score   support\n",
      "\n",
      "    Non Rice       1.00      1.00      1.00        34\n",
      "        Rice       1.00      1.00      1.00        85\n",
      "\n",
      "    accuracy                           1.00       119\n",
      "   macro avg       1.00      1.00      1.00       119\n",
      "weighted avg       1.00      1.00      1.00       119\n",
      "\n"
     ]
    }
   ],
   "source": [
    "print(classification_report(insample_predictions, y_train))"
   ]
  },
  {
   "cell_type": "code",
   "execution_count": 59,
   "id": "e3296a48-7d83-42c2-bff4-8d8f03260012",
   "metadata": {},
   "outputs": [],
   "source": [
    "outsample_predictions=eclf2.predict(X_test)"
   ]
  },
  {
   "cell_type": "code",
   "execution_count": 60,
   "id": "d54bed16-b64e-4489-9868-fac27d3f3670",
   "metadata": {},
   "outputs": [
    {
     "name": "stdout",
     "output_type": "stream",
     "text": [
      "              precision    recall  f1-score   support\n",
      "\n",
      "    Non Rice       1.00      1.00      1.00        15\n",
      "        Rice       1.00      1.00      1.00        37\n",
      "\n",
      "    accuracy                           1.00        52\n",
      "   macro avg       1.00      1.00      1.00        52\n",
      "weighted avg       1.00      1.00      1.00        52\n",
      "\n"
     ]
    }
   ],
   "source": [
    "print(classification_report(outsample_predictions, y_test))"
   ]
  },
  {
   "cell_type": "markdown",
   "id": "5d09fe44-f3a5-4975-9957-22c438d7f1d1",
   "metadata": {},
   "source": [
    "# Submission file preprocessing"
   ]
  },
  {
   "cell_type": "code",
   "execution_count": 105,
   "id": "7508ab2a-fde6-43f2-8c71-d4e040a2a6e3",
   "metadata": {},
   "outputs": [],
   "source": [
    "sub=pd.read_csv('challenge_1_submission_template_correct_columns_fixed.csv')"
   ]
  },
  {
   "cell_type": "code",
   "execution_count": 106,
   "id": "0c037ab0-f75a-4f95-96da-d76a30bdb6e7",
   "metadata": {},
   "outputs": [],
   "source": [
    "sub['lati']=0\n",
    "sub['loti']=0"
   ]
  },
  {
   "cell_type": "code",
   "execution_count": 107,
   "id": "1fe2fd48-826c-4049-9115-1e3ba2e1d7d5",
   "metadata": {},
   "outputs": [],
   "source": [
    "for x in range(len(sub)):\n",
    "    \n",
    "    tmp=sub['id'][x].split(',')\n",
    "    \n",
    "    lati=tmp[0]\n",
    "    sub['lati'][x]=lati.lstrip('(')\n",
    "\n",
    "    loti=tmp[1]\n",
    "    sub['loti'][x]=loti.rstrip(')')"
   ]
  },
  {
   "cell_type": "code",
   "execution_count": 108,
   "id": "44b18e39-7516-46e5-b086-2c4a171f04ab",
   "metadata": {},
   "outputs": [],
   "source": [
    "sub['loti']=sub['loti'].astype('float64')\n",
    "sub['lati']=sub['lati'].astype('float64')"
   ]
  },
  {
   "cell_type": "code",
   "execution_count": 65,
   "id": "708e83fc-d422-455f-a987-e45a1f96a8a1",
   "metadata": {},
   "outputs": [],
   "source": [
    "sub_gdf=gpd.GeoDataFrame(\n",
    "    sub.loc[:,[c for c in sub.columns if (c!='lati') or (c!='loti')]],\n",
    "    geometry=gpd.points_from_xy(sub.loti, sub.lati),\n",
    "    crs='epsg:4326')"
   ]
  },
  {
   "cell_type": "code",
   "execution_count": 66,
   "id": "8a85f7c3-33b2-4519-8fbb-b76776e11059",
   "metadata": {},
   "outputs": [
    {
     "data": {
      "text/plain": [
       "<AxesSubplot:>"
      ]
     },
     "execution_count": 66,
     "metadata": {},
     "output_type": "execute_result"
    },
    {
     "data": {
      "image/png": "[encoded data removed]",
      "text/plain": [
       "<Figure size 640x480 with 1 Axes>"
      ]
     },
     "metadata": {},
     "output_type": "display_data"
    }
   ],
   "source": [
    "sub_gdf.geometry.plot()"
   ]
  },
  {
   "cell_type": "code",
   "execution_count": 67,
   "id": "e8207d6b-c3be-4381-8314-ff56bf534c9c",
   "metadata": {},
   "outputs": [],
   "source": [
    "X=pd.concat([sub['lati'],sub['loti']],axis=1)"
   ]
  },
  {
   "cell_type": "code",
   "execution_count": 70,
   "id": "178f512e-838c-4a47-9695-fc2cd05e4bf0",
   "metadata": {},
   "outputs": [],
   "source": [
    "kmeans_sub=KMeans(n_clusters=7, random_state=0)\n",
    "clusters=kmeans_sub.fit(X)"
   ]
  },
  {
   "cell_type": "code",
   "execution_count": 71,
   "id": "89e94741-cc9a-4c61-9035-738b18b8afc7",
   "metadata": {},
   "outputs": [],
   "source": [
    "sub['cluster']=clusters.labels_"
   ]
  },
  {
   "cell_type": "code",
   "execution_count": 72,
   "id": "6dfd5ed8-e4c2-4bd6-8a52-1bf1e5621617",
   "metadata": {},
   "outputs": [
    {
     "data": {
      "text/html": [
       "<div>\n",
       "<style scoped>\n",
       "    .dataframe tbody tr th:only-of-type {\n",
       "        vertical-align: middle;\n",
       "    }\n",
       "\n",
       "    .dataframe tbody tr th {\n",
       "        vertical-align: top;\n",
       "    }\n",
       "\n",
       "    .dataframe thead th {\n",
       "        text-align: right;\n",
       "    }\n",
       "</style>\n",
       "<table border=\"1\" class=\"dataframe\">\n",
       "  <thead>\n",
       "    <tr style=\"text-align: right;\">\n",
       "      <th></th>\n",
       "      <th>id</th>\n",
       "      <th>target</th>\n",
       "      <th>lati</th>\n",
       "      <th>loti</th>\n",
       "      <th>cluster</th>\n",
       "    </tr>\n",
       "  </thead>\n",
       "  <tbody>\n",
       "    <tr>\n",
       "      <th>0</th>\n",
       "      <td>(10.18019073690894, 105.32022315786804)</td>\n",
       "      <td>NaN</td>\n",
       "      <td>10.180191</td>\n",
       "      <td>105.320223</td>\n",
       "      <td>0</td>\n",
       "    </tr>\n",
       "    <tr>\n",
       "      <th>1</th>\n",
       "      <td>(10.561107033461816, 105.12772097986661)</td>\n",
       "      <td>NaN</td>\n",
       "      <td>10.561107</td>\n",
       "      <td>105.127721</td>\n",
       "      <td>1</td>\n",
       "    </tr>\n",
       "    <tr>\n",
       "      <th>2</th>\n",
       "      <td>(10.623790611954897, 105.13771401411867)</td>\n",
       "      <td>NaN</td>\n",
       "      <td>10.623791</td>\n",
       "      <td>105.137714</td>\n",
       "      <td>6</td>\n",
       "    </tr>\n",
       "    <tr>\n",
       "      <th>3</th>\n",
       "      <td>(10.583364246115156, 105.23946127195805)</td>\n",
       "      <td>NaN</td>\n",
       "      <td>10.583364</td>\n",
       "      <td>105.239461</td>\n",
       "      <td>5</td>\n",
       "    </tr>\n",
       "    <tr>\n",
       "      <th>4</th>\n",
       "      <td>(10.20744446668854, 105.26844107128906)</td>\n",
       "      <td>NaN</td>\n",
       "      <td>10.207444</td>\n",
       "      <td>105.268441</td>\n",
       "      <td>0</td>\n",
       "    </tr>\n",
       "  </tbody>\n",
       "</table>\n",
       "</div>"
      ],
      "text/plain": [
       "                                         id  target       lati        loti  \\\n",
       "0   (10.18019073690894, 105.32022315786804)     NaN  10.180191  105.320223   \n",
       "1  (10.561107033461816, 105.12772097986661)     NaN  10.561107  105.127721   \n",
       "2  (10.623790611954897, 105.13771401411867)     NaN  10.623791  105.137714   \n",
       "3  (10.583364246115156, 105.23946127195805)     NaN  10.583364  105.239461   \n",
       "4   (10.20744446668854, 105.26844107128906)     NaN  10.207444  105.268441   \n",
       "\n",
       "   cluster  \n",
       "0        0  \n",
       "1        1  \n",
       "2        6  \n",
       "3        5  \n",
       "4        0  "
      ]
     },
     "execution_count": 72,
     "metadata": {},
     "output_type": "execute_result"
    }
   ],
   "source": [
    "sub.head()"
   ]
  },
  {
   "cell_type": "code",
   "execution_count": 73,
   "id": "5bcea80d-4881-45b1-b59c-f2a66b21e988",
   "metadata": {},
   "outputs": [
    {
     "data": {
      "text/plain": [
       "250"
      ]
     },
     "execution_count": 73,
     "metadata": {},
     "output_type": "execute_result"
    }
   ],
   "source": [
    "len(sub)"
   ]
  },
  {
   "cell_type": "code",
   "execution_count": 75,
   "id": "9d37c787-ff56-4fbf-bac5-81ad6bb96114",
   "metadata": {},
   "outputs": [
    {
     "data": {
      "text/plain": [
       "<matplotlib.collections.PathCollection at 0x7ff774314100>"
      ]
     },
     "execution_count": 75,
     "metadata": {},
     "output_type": "execute_result"
    },
    {
     "data": {
      "image/png": "[encoded data removed]",
      "text/plain": [
       "<Figure size 640x480 with 1 Axes>"
      ]
     },
     "metadata": {},
     "output_type": "display_data"
    }
   ],
   "source": [
    "plt.scatter(sub.lati, sub.loti, c=sub.cluster)"
   ]
  },
  {
   "cell_type": "code",
   "execution_count": 76,
   "id": "ce80c792-0f72-419e-8827-78458e611709",
   "metadata": {},
   "outputs": [],
   "source": [
    "mon=[1,2,3,5,6,9,10]\n",
    "value=['nir','ndvi']\n",
    "for string in mon:\n",
    "    for val in value:\n",
    "        var_name='{0}_{1}'.format(val, string)\n",
    "        sub[var_name]=0"
   ]
  },
  {
   "cell_type": "code",
   "execution_count": 77,
   "id": "572b3e21-2ba1-4e7e-8e9d-5ad10fba96a6",
   "metadata": {},
   "outputs": [
    {
     "data": {
      "text/html": [
       "<div>\n",
       "<style scoped>\n",
       "    .dataframe tbody tr th:only-of-type {\n",
       "        vertical-align: middle;\n",
       "    }\n",
       "\n",
       "    .dataframe tbody tr th {\n",
       "        vertical-align: top;\n",
       "    }\n",
       "\n",
       "    .dataframe thead th {\n",
       "        text-align: right;\n",
       "    }\n",
       "</style>\n",
       "<table border=\"1\" class=\"dataframe\">\n",
       "  <thead>\n",
       "    <tr style=\"text-align: right;\">\n",
       "      <th></th>\n",
       "      <th>id</th>\n",
       "      <th>target</th>\n",
       "      <th>lati</th>\n",
       "      <th>loti</th>\n",
       "      <th>cluster</th>\n",
       "      <th>nir_1</th>\n",
       "      <th>ndvi_1</th>\n",
       "      <th>nir_2</th>\n",
       "      <th>ndvi_2</th>\n",
       "      <th>nir_3</th>\n",
       "      <th>ndvi_3</th>\n",
       "      <th>nir_5</th>\n",
       "      <th>ndvi_5</th>\n",
       "      <th>nir_6</th>\n",
       "      <th>ndvi_6</th>\n",
       "      <th>nir_9</th>\n",
       "      <th>ndvi_9</th>\n",
       "      <th>nir_10</th>\n",
       "      <th>ndvi_10</th>\n",
       "    </tr>\n",
       "  </thead>\n",
       "  <tbody>\n",
       "    <tr>\n",
       "      <th>0</th>\n",
       "      <td>(10.18019073690894, 105.32022315786804)</td>\n",
       "      <td>NaN</td>\n",
       "      <td>10.180191</td>\n",
       "      <td>105.320223</td>\n",
       "      <td>0</td>\n",
       "      <td>0</td>\n",
       "      <td>0</td>\n",
       "      <td>0</td>\n",
       "      <td>0</td>\n",
       "      <td>0</td>\n",
       "      <td>0</td>\n",
       "      <td>0</td>\n",
       "      <td>0</td>\n",
       "      <td>0</td>\n",
       "      <td>0</td>\n",
       "      <td>0</td>\n",
       "      <td>0</td>\n",
       "      <td>0</td>\n",
       "      <td>0</td>\n",
       "    </tr>\n",
       "    <tr>\n",
       "      <th>1</th>\n",
       "      <td>(10.561107033461816, 105.12772097986661)</td>\n",
       "      <td>NaN</td>\n",
       "      <td>10.561107</td>\n",
       "      <td>105.127721</td>\n",
       "      <td>1</td>\n",
       "      <td>0</td>\n",
       "      <td>0</td>\n",
       "      <td>0</td>\n",
       "      <td>0</td>\n",
       "      <td>0</td>\n",
       "      <td>0</td>\n",
       "      <td>0</td>\n",
       "      <td>0</td>\n",
       "      <td>0</td>\n",
       "      <td>0</td>\n",
       "      <td>0</td>\n",
       "      <td>0</td>\n",
       "      <td>0</td>\n",
       "      <td>0</td>\n",
       "    </tr>\n",
       "    <tr>\n",
       "      <th>2</th>\n",
       "      <td>(10.623790611954897, 105.13771401411867)</td>\n",
       "      <td>NaN</td>\n",
       "      <td>10.623791</td>\n",
       "      <td>105.137714</td>\n",
       "      <td>6</td>\n",
       "      <td>0</td>\n",
       "      <td>0</td>\n",
       "      <td>0</td>\n",
       "      <td>0</td>\n",
       "      <td>0</td>\n",
       "      <td>0</td>\n",
       "      <td>0</td>\n",
       "      <td>0</td>\n",
       "      <td>0</td>\n",
       "      <td>0</td>\n",
       "      <td>0</td>\n",
       "      <td>0</td>\n",
       "      <td>0</td>\n",
       "      <td>0</td>\n",
       "    </tr>\n",
       "    <tr>\n",
       "      <th>3</th>\n",
       "      <td>(10.583364246115156, 105.23946127195805)</td>\n",
       "      <td>NaN</td>\n",
       "      <td>10.583364</td>\n",
       "      <td>105.239461</td>\n",
       "      <td>5</td>\n",
       "      <td>0</td>\n",
       "      <td>0</td>\n",
       "      <td>0</td>\n",
       "      <td>0</td>\n",
       "      <td>0</td>\n",
       "      <td>0</td>\n",
       "      <td>0</td>\n",
       "      <td>0</td>\n",
       "      <td>0</td>\n",
       "      <td>0</td>\n",
       "      <td>0</td>\n",
       "      <td>0</td>\n",
       "      <td>0</td>\n",
       "      <td>0</td>\n",
       "    </tr>\n",
       "    <tr>\n",
       "      <th>4</th>\n",
       "      <td>(10.20744446668854, 105.26844107128906)</td>\n",
       "      <td>NaN</td>\n",
       "      <td>10.207444</td>\n",
       "      <td>105.268441</td>\n",
       "      <td>0</td>\n",
       "      <td>0</td>\n",
       "      <td>0</td>\n",
       "      <td>0</td>\n",
       "      <td>0</td>\n",
       "      <td>0</td>\n",
       "      <td>0</td>\n",
       "      <td>0</td>\n",
       "      <td>0</td>\n",
       "      <td>0</td>\n",
       "      <td>0</td>\n",
       "      <td>0</td>\n",
       "      <td>0</td>\n",
       "      <td>0</td>\n",
       "      <td>0</td>\n",
       "    </tr>\n",
       "  </tbody>\n",
       "</table>\n",
       "</div>"
      ],
      "text/plain": [
       "                                         id  target       lati        loti  \\\n",
       "0   (10.18019073690894, 105.32022315786804)     NaN  10.180191  105.320223   \n",
       "1  (10.561107033461816, 105.12772097986661)     NaN  10.561107  105.127721   \n",
       "2  (10.623790611954897, 105.13771401411867)     NaN  10.623791  105.137714   \n",
       "3  (10.583364246115156, 105.23946127195805)     NaN  10.583364  105.239461   \n",
       "4   (10.20744446668854, 105.26844107128906)     NaN  10.207444  105.268441   \n",
       "\n",
       "   cluster  nir_1  ndvi_1  nir_2  ndvi_2  nir_3  ndvi_3  nir_5  ndvi_5  nir_6  \\\n",
       "0        0      0       0      0       0      0       0      0       0      0   \n",
       "1        1      0       0      0       0      0       0      0       0      0   \n",
       "2        6      0       0      0       0      0       0      0       0      0   \n",
       "3        5      0       0      0       0      0       0      0       0      0   \n",
       "4        0      0       0      0       0      0       0      0       0      0   \n",
       "\n",
       "   ndvi_6  nir_9  ndvi_9  nir_10  ndvi_10  \n",
       "0       0      0       0       0        0  \n",
       "1       0      0       0       0        0  \n",
       "2       0      0       0       0        0  \n",
       "3       0      0       0       0        0  \n",
       "4       0      0       0       0        0  "
      ]
     },
     "execution_count": 77,
     "metadata": {},
     "output_type": "execute_result"
    }
   ],
   "source": [
    "sub.head()"
   ]
  },
  {
   "cell_type": "code",
   "execution_count": 78,
   "id": "bb7a4c65-4c1d-404e-acfd-1513fdb24ec7",
   "metadata": {},
   "outputs": [],
   "source": [
    "for string in mon:\n",
    "    first_def(sub,string)"
   ]
  },
  {
   "cell_type": "code",
   "execution_count": 80,
   "id": "ff270e2f-8943-4024-b5a1-4f116eb0e25e",
   "metadata": {},
   "outputs": [],
   "source": [
    "mon=[1,2,3,5,6,9,10]\n",
    "value=['vv','vh']\n",
    "for string in mon:\n",
    "    for val in value:\n",
    "        var_name='{0}_{1}'.format(val, string)\n",
    "        sub[var_name]=0"
   ]
  },
  {
   "cell_type": "code",
   "execution_count": 82,
   "id": "b4a06ceb-70ff-49df-84f2-0227f2ce9852",
   "metadata": {},
   "outputs": [],
   "source": [
    "for string in mon:\n",
    "    second_def(sub,string)"
   ]
  },
  {
   "cell_type": "code",
   "execution_count": 83,
   "id": "92cd3eef-321c-494c-95c6-dc0f6ec0050c",
   "metadata": {},
   "outputs": [
    {
     "name": "stdout",
     "output_type": "stream",
     "text": [
      "0 id\n",
      "250 target\n",
      "0 lati\n",
      "0 loti\n",
      "0 cluster\n",
      "0 nir_1\n",
      "89 ndvi_1\n",
      "0 nir_2\n",
      "80 ndvi_2\n",
      "0 nir_3\n",
      "93 ndvi_3\n",
      "0 nir_5\n",
      "155 ndvi_5\n",
      "0 nir_6\n",
      "89 ndvi_6\n",
      "0 nir_9\n",
      "129 ndvi_9\n",
      "0 nir_10\n",
      "141 ndvi_10\n",
      "0 vv_1\n",
      "0 vh_1\n",
      "0 vv_2\n",
      "0 vh_2\n",
      "0 vv_3\n",
      "0 vh_3\n",
      "0 vv_5\n",
      "0 vh_5\n",
      "0 vv_6\n",
      "0 vh_6\n",
      "0 vv_9\n",
      "0 vh_9\n",
      "0 vv_10\n",
      "0 vh_10\n"
     ]
    }
   ],
   "source": [
    "for x in sub.columns:\n",
    "    print(sub[x].isnull().sum(), x)"
   ]
  },
  {
   "cell_type": "code",
   "execution_count": 84,
   "id": "3555ec90-bb2f-47d0-92ba-90f4b5d570b7",
   "metadata": {},
   "outputs": [
    {
     "data": {
      "text/html": [
       "<div>\n",
       "<style scoped>\n",
       "    .dataframe tbody tr th:only-of-type {\n",
       "        vertical-align: middle;\n",
       "    }\n",
       "\n",
       "    .dataframe tbody tr th {\n",
       "        vertical-align: top;\n",
       "    }\n",
       "\n",
       "    .dataframe thead th {\n",
       "        text-align: right;\n",
       "    }\n",
       "</style>\n",
       "<table border=\"1\" class=\"dataframe\">\n",
       "  <thead>\n",
       "    <tr style=\"text-align: right;\">\n",
       "      <th></th>\n",
       "      <th>id</th>\n",
       "      <th>target</th>\n",
       "      <th>lati</th>\n",
       "      <th>loti</th>\n",
       "      <th>cluster</th>\n",
       "      <th>nir_1</th>\n",
       "      <th>ndvi_1</th>\n",
       "      <th>nir_2</th>\n",
       "      <th>ndvi_2</th>\n",
       "      <th>nir_3</th>\n",
       "      <th>...</th>\n",
       "      <th>vv_3</th>\n",
       "      <th>vh_3</th>\n",
       "      <th>vv_5</th>\n",
       "      <th>vh_5</th>\n",
       "      <th>vv_6</th>\n",
       "      <th>vh_6</th>\n",
       "      <th>vv_9</th>\n",
       "      <th>vh_9</th>\n",
       "      <th>vv_10</th>\n",
       "      <th>vh_10</th>\n",
       "    </tr>\n",
       "  </thead>\n",
       "  <tbody>\n",
       "    <tr>\n",
       "      <th>0</th>\n",
       "      <td>(10.18019073690894, 105.32022315786804)</td>\n",
       "      <td>NaN</td>\n",
       "      <td>10.180191</td>\n",
       "      <td>105.320223</td>\n",
       "      <td>0</td>\n",
       "      <td>5444</td>\n",
       "      <td>0.922316</td>\n",
       "      <td>4040</td>\n",
       "      <td>0.701769</td>\n",
       "      <td>3560</td>\n",
       "      <td>...</td>\n",
       "      <td>0.085975</td>\n",
       "      <td>0.014124</td>\n",
       "      <td>0.050962</td>\n",
       "      <td>0.015588</td>\n",
       "      <td>0.117839</td>\n",
       "      <td>0.027412</td>\n",
       "      <td>0.160930</td>\n",
       "      <td>0.039919</td>\n",
       "      <td>0.251064</td>\n",
       "      <td>0.023595</td>\n",
       "    </tr>\n",
       "    <tr>\n",
       "      <th>1</th>\n",
       "      <td>(10.561107033461816, 105.12772097986661)</td>\n",
       "      <td>NaN</td>\n",
       "      <td>10.561107</td>\n",
       "      <td>105.127721</td>\n",
       "      <td>1</td>\n",
       "      <td>0</td>\n",
       "      <td>NaN</td>\n",
       "      <td>0</td>\n",
       "      <td>NaN</td>\n",
       "      <td>0</td>\n",
       "      <td>...</td>\n",
       "      <td>0.232372</td>\n",
       "      <td>0.025434</td>\n",
       "      <td>0.154734</td>\n",
       "      <td>0.025422</td>\n",
       "      <td>0.169286</td>\n",
       "      <td>0.032697</td>\n",
       "      <td>0.008950</td>\n",
       "      <td>0.002188</td>\n",
       "      <td>0.040987</td>\n",
       "      <td>0.004627</td>\n",
       "    </tr>\n",
       "    <tr>\n",
       "      <th>2</th>\n",
       "      <td>(10.623790611954897, 105.13771401411867)</td>\n",
       "      <td>NaN</td>\n",
       "      <td>10.623791</td>\n",
       "      <td>105.137714</td>\n",
       "      <td>6</td>\n",
       "      <td>0</td>\n",
       "      <td>NaN</td>\n",
       "      <td>0</td>\n",
       "      <td>NaN</td>\n",
       "      <td>0</td>\n",
       "      <td>...</td>\n",
       "      <td>0.541846</td>\n",
       "      <td>0.229858</td>\n",
       "      <td>0.023960</td>\n",
       "      <td>0.019652</td>\n",
       "      <td>0.124226</td>\n",
       "      <td>0.017241</td>\n",
       "      <td>0.175632</td>\n",
       "      <td>0.015016</td>\n",
       "      <td>0.477561</td>\n",
       "      <td>0.065075</td>\n",
       "    </tr>\n",
       "    <tr>\n",
       "      <th>3</th>\n",
       "      <td>(10.583364246115156, 105.23946127195805)</td>\n",
       "      <td>NaN</td>\n",
       "      <td>10.583364</td>\n",
       "      <td>105.239461</td>\n",
       "      <td>5</td>\n",
       "      <td>0</td>\n",
       "      <td>NaN</td>\n",
       "      <td>0</td>\n",
       "      <td>NaN</td>\n",
       "      <td>0</td>\n",
       "      <td>...</td>\n",
       "      <td>0.146795</td>\n",
       "      <td>0.031435</td>\n",
       "      <td>0.431488</td>\n",
       "      <td>0.031099</td>\n",
       "      <td>0.029118</td>\n",
       "      <td>0.015925</td>\n",
       "      <td>0.012650</td>\n",
       "      <td>0.001957</td>\n",
       "      <td>0.064742</td>\n",
       "      <td>0.010193</td>\n",
       "    </tr>\n",
       "    <tr>\n",
       "      <th>4</th>\n",
       "      <td>(10.20744446668854, 105.26844107128906)</td>\n",
       "      <td>NaN</td>\n",
       "      <td>10.207444</td>\n",
       "      <td>105.268441</td>\n",
       "      <td>0</td>\n",
       "      <td>4708</td>\n",
       "      <td>0.929508</td>\n",
       "      <td>3870</td>\n",
       "      <td>0.714665</td>\n",
       "      <td>2492</td>\n",
       "      <td>...</td>\n",
       "      <td>0.174054</td>\n",
       "      <td>0.050984</td>\n",
       "      <td>0.086918</td>\n",
       "      <td>0.028190</td>\n",
       "      <td>0.061681</td>\n",
       "      <td>0.029826</td>\n",
       "      <td>0.407519</td>\n",
       "      <td>0.027851</td>\n",
       "      <td>0.142674</td>\n",
       "      <td>0.014306</td>\n",
       "    </tr>\n",
       "  </tbody>\n",
       "</table>\n",
       "<p>5 rows × 33 columns</p>\n",
       "</div>"
      ],
      "text/plain": [
       "                                         id  target       lati        loti  \\\n",
       "0   (10.18019073690894, 105.32022315786804)     NaN  10.180191  105.320223   \n",
       "1  (10.561107033461816, 105.12772097986661)     NaN  10.561107  105.127721   \n",
       "2  (10.623790611954897, 105.13771401411867)     NaN  10.623791  105.137714   \n",
       "3  (10.583364246115156, 105.23946127195805)     NaN  10.583364  105.239461   \n",
       "4   (10.20744446668854, 105.26844107128906)     NaN  10.207444  105.268441   \n",
       "\n",
       "   cluster  nir_1    ndvi_1  nir_2    ndvi_2  nir_3  ...      vv_3      vh_3  \\\n",
       "0        0   5444  0.922316   4040  0.701769   3560  ...  0.085975  0.014124   \n",
       "1        1      0       NaN      0       NaN      0  ...  0.232372  0.025434   \n",
       "2        6      0       NaN      0       NaN      0  ...  0.541846  0.229858   \n",
       "3        5      0       NaN      0       NaN      0  ...  0.146795  0.031435   \n",
       "4        0   4708  0.929508   3870  0.714665   2492  ...  0.174054  0.050984   \n",
       "\n",
       "       vv_5      vh_5      vv_6      vh_6      vv_9      vh_9     vv_10  \\\n",
       "0  0.050962  0.015588  0.117839  0.027412  0.160930  0.039919  0.251064   \n",
       "1  0.154734  0.025422  0.169286  0.032697  0.008950  0.002188  0.040987   \n",
       "2  0.023960  0.019652  0.124226  0.017241  0.175632  0.015016  0.477561   \n",
       "3  0.431488  0.031099  0.029118  0.015925  0.012650  0.001957  0.064742   \n",
       "4  0.086918  0.028190  0.061681  0.029826  0.407519  0.027851  0.142674   \n",
       "\n",
       "      vh_10  \n",
       "0  0.023595  \n",
       "1  0.004627  \n",
       "2  0.065075  \n",
       "3  0.010193  \n",
       "4  0.014306  \n",
       "\n",
       "[5 rows x 33 columns]"
      ]
     },
     "execution_count": 84,
     "metadata": {},
     "output_type": "execute_result"
    }
   ],
   "source": [
    "sub.head()"
   ]
  },
  {
   "cell_type": "code",
   "execution_count": 85,
   "id": "38efbbb2-cb47-43e9-97bc-c3673c28fa98",
   "metadata": {},
   "outputs": [
    {
     "data": {
      "text/plain": [
       "Index(['id', 'target', 'lati', 'loti', 'cluster', 'nir_1', 'ndvi_1', 'nir_2',\n",
       "       'ndvi_2', 'nir_3', 'ndvi_3', 'nir_5', 'ndvi_5', 'nir_6', 'ndvi_6',\n",
       "       'nir_9', 'ndvi_9', 'nir_10', 'ndvi_10', 'vv_1', 'vh_1', 'vv_2', 'vh_2',\n",
       "       'vv_3', 'vh_3', 'vv_5', 'vh_5', 'vv_6', 'vh_6', 'vv_9', 'vh_9', 'vv_10',\n",
       "       'vh_10'],\n",
       "      dtype='object')"
      ]
     },
     "execution_count": 85,
     "metadata": {},
     "output_type": "execute_result"
    }
   ],
   "source": [
    "sub.columns"
   ]
  },
  {
   "cell_type": "code",
   "execution_count": 86,
   "id": "d9fcade2-4bf4-467b-a322-446e99586606",
   "metadata": {},
   "outputs": [],
   "source": [
    "valid_rows=sub[['id','lati', 'loti', 'nir_1',\n",
    "       'ndvi_1', 'nir_2', 'ndvi_2', 'nir_3', 'ndvi_3', 'nir_5', 'ndvi_5',\n",
    "       'nir_6', 'ndvi_6', 'nir_9', 'ndvi_9', 'nir_10', 'ndvi_10', 'vv_1',\n",
    "       'vh_1', 'vv_2', 'vh_2', 'vv_3', 'vh_3', 'vv_5', 'vh_5', 'vv_6', 'vh_6',\n",
    "       'vv_9', 'vh_9', 'vv_10', 'vh_10']].notnull().all(1)"
   ]
  },
  {
   "cell_type": "code",
   "execution_count": 87,
   "id": "cb98eb02-c951-43cb-b02c-13faa664e42e",
   "metadata": {},
   "outputs": [],
   "source": [
    "sub_null=sub[~valid_rows]\n",
    "sub_not_null=sub[valid_rows]"
   ]
  },
  {
   "cell_type": "code",
   "execution_count": 88,
   "id": "514a1011-2253-4afd-a20d-f82ec56c70a8",
   "metadata": {},
   "outputs": [],
   "source": [
    "copy_1=sub_null.copy()\n",
    "copy_2=sub_not_null.copy()"
   ]
  },
  {
   "cell_type": "code",
   "execution_count": 91,
   "id": "163351ed-904b-4745-a74d-ddaffecae3af",
   "metadata": {},
   "outputs": [],
   "source": [
    "crop_data_null=copy_1[['lati', 'loti', 'vv_1',\n",
    "       'vh_1', 'vv_2', 'vh_2', 'vv_3', 'vh_3', 'vv_5', 'vh_5', 'vv_6', 'vh_6',\n",
    "       'vv_9', 'vh_9', 'vv_10', 'vh_10']]\n",
    "\n",
    "crop_data_not_null=copy_2[['lati', 'loti', 'nir_1',\n",
    "       'ndvi_1', 'nir_2', 'ndvi_2', 'nir_3', 'ndvi_3', 'nir_5', 'ndvi_5',\n",
    "       'nir_6', 'ndvi_6', 'nir_9', 'ndvi_9', 'nir_10', 'ndvi_10', 'vv_1',\n",
    "       'vh_1', 'vv_2', 'vh_2', 'vv_3', 'vh_3', 'vv_5', 'vh_5', 'vv_6', 'vh_6',\n",
    "       'vv_9', 'vh_9', 'vv_10', 'vh_10']]"
   ]
  },
  {
   "cell_type": "markdown",
   "id": "944973f5-4834-4a3b-84bc-455d94dfc791",
   "metadata": {},
   "source": [
    "## Rows with Null values"
   ]
  },
  {
   "cell_type": "code",
   "execution_count": 93,
   "id": "273d0e2c-8999-4f78-8a91-2c05213f1518",
   "metadata": {},
   "outputs": [],
   "source": [
    "final_predictions_null=eclf1.predict(crop_data_null)\n",
    "final_prediction_series_null=pd.Series(final_predictions_null)"
   ]
  },
  {
   "cell_type": "code",
   "execution_count": 94,
   "id": "998666ec-4c73-4c7e-b2b6-dc775fcc535d",
   "metadata": {},
   "outputs": [
    {
     "data": {
      "text/plain": [
       "Non Rice    169\n",
       "Rice         36\n",
       "dtype: int64"
      ]
     },
     "execution_count": 94,
     "metadata": {},
     "output_type": "execute_result"
    }
   ],
   "source": [
    "final_prediction_series_null.value_counts()"
   ]
  },
  {
   "cell_type": "code",
   "execution_count": 95,
   "id": "6392515c-256a-4c74-904b-900440f18b8f",
   "metadata": {},
   "outputs": [
    {
     "data": {
      "text/plain": [
       "0          Rice\n",
       "1      Non Rice\n",
       "2      Non Rice\n",
       "3      Non Rice\n",
       "4          Rice\n",
       "         ...   \n",
       "200    Non Rice\n",
       "201    Non Rice\n",
       "202    Non Rice\n",
       "203    Non Rice\n",
       "204    Non Rice\n",
       "Length: 205, dtype: object"
      ]
     },
     "execution_count": 95,
     "metadata": {},
     "output_type": "execute_result"
    }
   ],
   "source": [
    "final_prediction_series_null"
   ]
  },
  {
   "cell_type": "code",
   "execution_count": 96,
   "id": "76f8c438-7891-45b6-8fd2-54b61054e02c",
   "metadata": {},
   "outputs": [],
   "source": [
    "#submission_df = pd.DataFrame({'id':sub['id'].values, 'target':final_prediction_series_null.values})\n",
    "submission_df_null = pd.DataFrame({'id':copy_1['id'].values, 'target':final_prediction_series_null.values})"
   ]
  },
  {
   "cell_type": "code",
   "execution_count": 97,
   "id": "55de2768-39e9-4bae-948e-a64d7bce0333",
   "metadata": {},
   "outputs": [
    {
     "data": {
      "text/html": [
       "<div>\n",
       "<style scoped>\n",
       "    .dataframe tbody tr th:only-of-type {\n",
       "        vertical-align: middle;\n",
       "    }\n",
       "\n",
       "    .dataframe tbody tr th {\n",
       "        vertical-align: top;\n",
       "    }\n",
       "\n",
       "    .dataframe thead th {\n",
       "        text-align: right;\n",
       "    }\n",
       "</style>\n",
       "<table border=\"1\" class=\"dataframe\">\n",
       "  <thead>\n",
       "    <tr style=\"text-align: right;\">\n",
       "      <th></th>\n",
       "      <th>id</th>\n",
       "      <th>target</th>\n",
       "    </tr>\n",
       "  </thead>\n",
       "  <tbody>\n",
       "    <tr>\n",
       "      <th>0</th>\n",
       "      <td>(10.18019073690894, 105.32022315786804)</td>\n",
       "      <td>Rice</td>\n",
       "    </tr>\n",
       "    <tr>\n",
       "      <th>1</th>\n",
       "      <td>(10.561107033461816, 105.12772097986661)</td>\n",
       "      <td>Non Rice</td>\n",
       "    </tr>\n",
       "    <tr>\n",
       "      <th>2</th>\n",
       "      <td>(10.623790611954897, 105.13771401411867)</td>\n",
       "      <td>Non Rice</td>\n",
       "    </tr>\n",
       "    <tr>\n",
       "      <th>3</th>\n",
       "      <td>(10.583364246115156, 105.23946127195805)</td>\n",
       "      <td>Non Rice</td>\n",
       "    </tr>\n",
       "    <tr>\n",
       "      <th>4</th>\n",
       "      <td>(10.20744446668854, 105.26844107128906)</td>\n",
       "      <td>Rice</td>\n",
       "    </tr>\n",
       "  </tbody>\n",
       "</table>\n",
       "</div>"
      ],
      "text/plain": [
       "                                         id    target\n",
       "0   (10.18019073690894, 105.32022315786804)      Rice\n",
       "1  (10.561107033461816, 105.12772097986661)  Non Rice\n",
       "2  (10.623790611954897, 105.13771401411867)  Non Rice\n",
       "3  (10.583364246115156, 105.23946127195805)  Non Rice\n",
       "4   (10.20744446668854, 105.26844107128906)      Rice"
      ]
     },
     "execution_count": 97,
     "metadata": {},
     "output_type": "execute_result"
    }
   ],
   "source": [
    "submission_df_null.head()"
   ]
  },
  {
   "cell_type": "markdown",
   "id": "150f39c3-383c-42c1-be07-66a6f08217a9",
   "metadata": {},
   "source": [
    "## Rows with whole variables"
   ]
  },
  {
   "cell_type": "code",
   "execution_count": 98,
   "id": "9df954a6-0ac3-4365-8223-999d3e2aa6ef",
   "metadata": {},
   "outputs": [],
   "source": [
    "final_predictions_not_null=eclf2.predict(crop_data_not_null)\n",
    "final_prediction_series_not_null=pd.Series(final_predictions_not_null)"
   ]
  },
  {
   "cell_type": "code",
   "execution_count": 99,
   "id": "f894b89e-dfa3-4d73-bb8d-43ede953fb19",
   "metadata": {},
   "outputs": [
    {
     "data": {
      "text/plain": [
       "Rice        26\n",
       "Non Rice    19\n",
       "dtype: int64"
      ]
     },
     "execution_count": 99,
     "metadata": {},
     "output_type": "execute_result"
    }
   ],
   "source": [
    "final_prediction_series_not_null.value_counts()"
   ]
  },
  {
   "cell_type": "code",
   "execution_count": 100,
   "id": "9a136667-097c-4f1d-8b98-2d0b3e0d682b",
   "metadata": {},
   "outputs": [
    {
     "data": {
      "text/plain": [
       "0         Rice\n",
       "1         Rice\n",
       "2     Non Rice\n",
       "3         Rice\n",
       "4         Rice\n",
       "5     Non Rice\n",
       "6     Non Rice\n",
       "7         Rice\n",
       "8         Rice\n",
       "9         Rice\n",
       "10        Rice\n",
       "11    Non Rice\n",
       "12    Non Rice\n",
       "13        Rice\n",
       "14    Non Rice\n",
       "15    Non Rice\n",
       "16        Rice\n",
       "17    Non Rice\n",
       "18    Non Rice\n",
       "19    Non Rice\n",
       "20        Rice\n",
       "21    Non Rice\n",
       "22        Rice\n",
       "23    Non Rice\n",
       "24    Non Rice\n",
       "25        Rice\n",
       "26        Rice\n",
       "27    Non Rice\n",
       "28        Rice\n",
       "29        Rice\n",
       "30        Rice\n",
       "31        Rice\n",
       "32    Non Rice\n",
       "33        Rice\n",
       "34    Non Rice\n",
       "35        Rice\n",
       "36        Rice\n",
       "37        Rice\n",
       "38        Rice\n",
       "39        Rice\n",
       "40        Rice\n",
       "41        Rice\n",
       "42    Non Rice\n",
       "43    Non Rice\n",
       "44    Non Rice\n",
       "dtype: object"
      ]
     },
     "execution_count": 100,
     "metadata": {},
     "output_type": "execute_result"
    }
   ],
   "source": [
    "final_prediction_series_not_null"
   ]
  },
  {
   "cell_type": "code",
   "execution_count": 102,
   "id": "735523c4-4d19-42a1-891d-2b0bf76c42c2",
   "metadata": {},
   "outputs": [],
   "source": [
    "submission_df_not_null = pd.DataFrame({'id':copy_2['id'].values, 'target':final_prediction_series_not_null.values})"
   ]
  },
  {
   "cell_type": "code",
   "execution_count": 211,
   "id": "e5b4d244-e189-4c4f-bc79-44e0118a6d8e",
   "metadata": {},
   "outputs": [
    {
     "data": {
      "text/html": [
       "<div>\n",
       "<style scoped>\n",
       "    .dataframe tbody tr th:only-of-type {\n",
       "        vertical-align: middle;\n",
       "    }\n",
       "\n",
       "    .dataframe tbody tr th {\n",
       "        vertical-align: top;\n",
       "    }\n",
       "\n",
       "    .dataframe thead th {\n",
       "        text-align: right;\n",
       "    }\n",
       "</style>\n",
       "<table border=\"1\" class=\"dataframe\">\n",
       "  <thead>\n",
       "    <tr style=\"text-align: right;\">\n",
       "      <th></th>\n",
       "      <th>id</th>\n",
       "      <th>target</th>\n",
       "    </tr>\n",
       "  </thead>\n",
       "  <tbody>\n",
       "    <tr>\n",
       "      <th>0</th>\n",
       "      <td>(10.822288610516317, 105.20221450792755)</td>\n",
       "      <td>Rice</td>\n",
       "    </tr>\n",
       "    <tr>\n",
       "      <th>1</th>\n",
       "      <td>(10.225159391045281, 105.28206793617827)</td>\n",
       "      <td>Rice</td>\n",
       "    </tr>\n",
       "    <tr>\n",
       "      <th>2</th>\n",
       "      <td>(10.281029537093461, 105.53416493662849)</td>\n",
       "      <td>Non Rice</td>\n",
       "    </tr>\n",
       "    <tr>\n",
       "      <th>3</th>\n",
       "      <td>(10.16610964318948, 105.30614206414918)</td>\n",
       "      <td>Rice</td>\n",
       "    </tr>\n",
       "    <tr>\n",
       "      <th>4</th>\n",
       "      <td>(10.586543847922776, 105.15997122677103)</td>\n",
       "      <td>Rice</td>\n",
       "    </tr>\n",
       "  </tbody>\n",
       "</table>\n",
       "</div>"
      ],
      "text/plain": [
       "                                         id    target\n",
       "0  (10.822288610516317, 105.20221450792755)      Rice\n",
       "1  (10.225159391045281, 105.28206793617827)      Rice\n",
       "2  (10.281029537093461, 105.53416493662849)  Non Rice\n",
       "3   (10.16610964318948, 105.30614206414918)      Rice\n",
       "4  (10.586543847922776, 105.15997122677103)      Rice"
      ]
     },
     "execution_count": 211,
     "metadata": {},
     "output_type": "execute_result"
    }
   ],
   "source": [
    "submission_df_not_null.head()"
   ]
  },
  {
   "cell_type": "markdown",
   "id": "2ed0a5c5-d7df-4b52-9d49-89b4fdc1b332",
   "metadata": {},
   "source": [
    "## Prepare for submission file"
   ]
  },
  {
   "cell_type": "code",
   "execution_count": 209,
   "id": "c05fabca-063a-4e2e-a70d-031484d22b0b",
   "metadata": {},
   "outputs": [],
   "source": [
    "sub_id=sub[['id','target']]"
   ]
  },
  {
   "cell_type": "code",
   "execution_count": 218,
   "id": "792e4e10-c363-45dd-92dd-3b56f48e7241",
   "metadata": {},
   "outputs": [],
   "source": [
    "tmping=pd.concat([submission_df_null,submission_df_not_null])"
   ]
  },
  {
   "cell_type": "code",
   "execution_count": 219,
   "id": "e4a7873d-ec9a-494f-816f-e3a799654cb3",
   "metadata": {},
   "outputs": [
    {
     "data": {
      "text/plain": [
       "Non Rice    188\n",
       "Rice         62\n",
       "Name: target, dtype: int64"
      ]
     },
     "execution_count": 219,
     "metadata": {},
     "output_type": "execute_result"
    }
   ],
   "source": [
    "tmping['target'].value_counts()"
   ]
  },
  {
   "cell_type": "code",
   "execution_count": 220,
   "id": "89490490-a18a-4594-b188-8aa42e7da554",
   "metadata": {},
   "outputs": [
    {
     "data": {
      "text/html": [
       "<div>\n",
       "<style scoped>\n",
       "    .dataframe tbody tr th:only-of-type {\n",
       "        vertical-align: middle;\n",
       "    }\n",
       "\n",
       "    .dataframe tbody tr th {\n",
       "        vertical-align: top;\n",
       "    }\n",
       "\n",
       "    .dataframe thead th {\n",
       "        text-align: right;\n",
       "    }\n",
       "</style>\n",
       "<table border=\"1\" class=\"dataframe\">\n",
       "  <thead>\n",
       "    <tr style=\"text-align: right;\">\n",
       "      <th></th>\n",
       "      <th>id</th>\n",
       "      <th>target</th>\n",
       "    </tr>\n",
       "  </thead>\n",
       "  <tbody>\n",
       "    <tr>\n",
       "      <th>0</th>\n",
       "      <td>(10.18019073690894, 105.32022315786804)</td>\n",
       "      <td>Rice</td>\n",
       "    </tr>\n",
       "    <tr>\n",
       "      <th>1</th>\n",
       "      <td>(10.561107033461816, 105.12772097986661)</td>\n",
       "      <td>Non Rice</td>\n",
       "    </tr>\n",
       "    <tr>\n",
       "      <th>2</th>\n",
       "      <td>(10.623790611954897, 105.13771401411867)</td>\n",
       "      <td>Non Rice</td>\n",
       "    </tr>\n",
       "    <tr>\n",
       "      <th>3</th>\n",
       "      <td>(10.583364246115156, 105.23946127195805)</td>\n",
       "      <td>Non Rice</td>\n",
       "    </tr>\n",
       "    <tr>\n",
       "      <th>4</th>\n",
       "      <td>(10.20744446668854, 105.26844107128906)</td>\n",
       "      <td>Rice</td>\n",
       "    </tr>\n",
       "  </tbody>\n",
       "</table>\n",
       "</div>"
      ],
      "text/plain": [
       "                                         id    target\n",
       "0   (10.18019073690894, 105.32022315786804)      Rice\n",
       "1  (10.561107033461816, 105.12772097986661)  Non Rice\n",
       "2  (10.623790611954897, 105.13771401411867)  Non Rice\n",
       "3  (10.583364246115156, 105.23946127195805)  Non Rice\n",
       "4   (10.20744446668854, 105.26844107128906)      Rice"
      ]
     },
     "execution_count": 220,
     "metadata": {},
     "output_type": "execute_result"
    }
   ],
   "source": [
    "tmping.head()"
   ]
  },
  {
   "cell_type": "code",
   "execution_count": 221,
   "id": "1babfb20-037d-4603-b650-dc9bc6f9a3a2",
   "metadata": {},
   "outputs": [],
   "source": [
    "mid=sub_id.merge(tmping,on='id',how='left')"
   ]
  },
  {
   "cell_type": "code",
   "execution_count": 222,
   "id": "196f143e-6a18-4ee3-a46a-a6abfbcb8a1a",
   "metadata": {},
   "outputs": [
    {
     "data": {
      "text/html": [
       "<div>\n",
       "<style scoped>\n",
       "    .dataframe tbody tr th:only-of-type {\n",
       "        vertical-align: middle;\n",
       "    }\n",
       "\n",
       "    .dataframe tbody tr th {\n",
       "        vertical-align: top;\n",
       "    }\n",
       "\n",
       "    .dataframe thead th {\n",
       "        text-align: right;\n",
       "    }\n",
       "</style>\n",
       "<table border=\"1\" class=\"dataframe\">\n",
       "  <thead>\n",
       "    <tr style=\"text-align: right;\">\n",
       "      <th></th>\n",
       "      <th>id</th>\n",
       "      <th>target_x</th>\n",
       "      <th>target_y</th>\n",
       "    </tr>\n",
       "  </thead>\n",
       "  <tbody>\n",
       "    <tr>\n",
       "      <th>0</th>\n",
       "      <td>(10.18019073690894, 105.32022315786804)</td>\n",
       "      <td>NaN</td>\n",
       "      <td>Rice</td>\n",
       "    </tr>\n",
       "    <tr>\n",
       "      <th>1</th>\n",
       "      <td>(10.561107033461816, 105.12772097986661)</td>\n",
       "      <td>NaN</td>\n",
       "      <td>Non Rice</td>\n",
       "    </tr>\n",
       "    <tr>\n",
       "      <th>2</th>\n",
       "      <td>(10.623790611954897, 105.13771401411867)</td>\n",
       "      <td>NaN</td>\n",
       "      <td>Non Rice</td>\n",
       "    </tr>\n",
       "    <tr>\n",
       "      <th>3</th>\n",
       "      <td>(10.583364246115156, 105.23946127195805)</td>\n",
       "      <td>NaN</td>\n",
       "      <td>Non Rice</td>\n",
       "    </tr>\n",
       "    <tr>\n",
       "      <th>4</th>\n",
       "      <td>(10.20744446668854, 105.26844107128906)</td>\n",
       "      <td>NaN</td>\n",
       "      <td>Rice</td>\n",
       "    </tr>\n",
       "  </tbody>\n",
       "</table>\n",
       "</div>"
      ],
      "text/plain": [
       "                                         id  target_x  target_y\n",
       "0   (10.18019073690894, 105.32022315786804)       NaN      Rice\n",
       "1  (10.561107033461816, 105.12772097986661)       NaN  Non Rice\n",
       "2  (10.623790611954897, 105.13771401411867)       NaN  Non Rice\n",
       "3  (10.583364246115156, 105.23946127195805)       NaN  Non Rice\n",
       "4   (10.20744446668854, 105.26844107128906)       NaN      Rice"
      ]
     },
     "execution_count": 222,
     "metadata": {},
     "output_type": "execute_result"
    }
   ],
   "source": [
    "mid.head()"
   ]
  },
  {
   "cell_type": "code",
   "execution_count": 223,
   "id": "5e8ad519-ca65-4258-ac32-a5b8efdc21b0",
   "metadata": {},
   "outputs": [
    {
     "data": {
      "text/plain": [
       "0"
      ]
     },
     "execution_count": 223,
     "metadata": {},
     "output_type": "execute_result"
    }
   ],
   "source": [
    "mid['target_y'].isnull().sum()"
   ]
  },
  {
   "cell_type": "code",
   "execution_count": 224,
   "id": "76a2bed5-f67a-4f32-a3f4-11c845f70437",
   "metadata": {},
   "outputs": [],
   "source": [
    "final_sub=mid[['id','target_y']]"
   ]
  },
  {
   "cell_type": "code",
   "execution_count": 225,
   "id": "b253ee9f-d7e3-4bb9-b386-9bd546dc7e11",
   "metadata": {},
   "outputs": [],
   "source": [
    "final_sub.columns=['id','target']"
   ]
  },
  {
   "cell_type": "code",
   "execution_count": 226,
   "id": "7b5074ad-311d-4e82-974b-e9f1d0902cc2",
   "metadata": {},
   "outputs": [
    {
     "data": {
      "text/html": [
       "<div>\n",
       "<style scoped>\n",
       "    .dataframe tbody tr th:only-of-type {\n",
       "        vertical-align: middle;\n",
       "    }\n",
       "\n",
       "    .dataframe tbody tr th {\n",
       "        vertical-align: top;\n",
       "    }\n",
       "\n",
       "    .dataframe thead th {\n",
       "        text-align: right;\n",
       "    }\n",
       "</style>\n",
       "<table border=\"1\" class=\"dataframe\">\n",
       "  <thead>\n",
       "    <tr style=\"text-align: right;\">\n",
       "      <th></th>\n",
       "      <th>id</th>\n",
       "      <th>target</th>\n",
       "    </tr>\n",
       "  </thead>\n",
       "  <tbody>\n",
       "    <tr>\n",
       "      <th>0</th>\n",
       "      <td>(10.18019073690894, 105.32022315786804)</td>\n",
       "      <td>Rice</td>\n",
       "    </tr>\n",
       "    <tr>\n",
       "      <th>1</th>\n",
       "      <td>(10.561107033461816, 105.12772097986661)</td>\n",
       "      <td>Non Rice</td>\n",
       "    </tr>\n",
       "    <tr>\n",
       "      <th>2</th>\n",
       "      <td>(10.623790611954897, 105.13771401411867)</td>\n",
       "      <td>Non Rice</td>\n",
       "    </tr>\n",
       "    <tr>\n",
       "      <th>3</th>\n",
       "      <td>(10.583364246115156, 105.23946127195805)</td>\n",
       "      <td>Non Rice</td>\n",
       "    </tr>\n",
       "    <tr>\n",
       "      <th>4</th>\n",
       "      <td>(10.20744446668854, 105.26844107128906)</td>\n",
       "      <td>Rice</td>\n",
       "    </tr>\n",
       "    <tr>\n",
       "      <th>...</th>\n",
       "      <td>...</td>\n",
       "      <td>...</td>\n",
       "    </tr>\n",
       "    <tr>\n",
       "      <th>95</th>\n",
       "      <td>(10.507053802732276, 104.97010357598151)</td>\n",
       "      <td>Non Rice</td>\n",
       "    </tr>\n",
       "    <tr>\n",
       "      <th>96</th>\n",
       "      <td>(10.559744346972836, 105.12908366635551)</td>\n",
       "      <td>Non Rice</td>\n",
       "    </tr>\n",
       "    <tr>\n",
       "      <th>97</th>\n",
       "      <td>(10.280121079434142, 105.53552762311739)</td>\n",
       "      <td>Non Rice</td>\n",
       "    </tr>\n",
       "    <tr>\n",
       "      <th>98</th>\n",
       "      <td>(10.190183771161461, 105.26344455416304)</td>\n",
       "      <td>Rice</td>\n",
       "    </tr>\n",
       "    <tr>\n",
       "      <th>99</th>\n",
       "      <td>(10.242874315402021, 105.303870920001)</td>\n",
       "      <td>Rice</td>\n",
       "    </tr>\n",
       "  </tbody>\n",
       "</table>\n",
       "<p>100 rows × 2 columns</p>\n",
       "</div>"
      ],
      "text/plain": [
       "                                          id    target\n",
       "0    (10.18019073690894, 105.32022315786804)      Rice\n",
       "1   (10.561107033461816, 105.12772097986661)  Non Rice\n",
       "2   (10.623790611954897, 105.13771401411867)  Non Rice\n",
       "3   (10.583364246115156, 105.23946127195805)  Non Rice\n",
       "4    (10.20744446668854, 105.26844107128906)      Rice\n",
       "..                                       ...       ...\n",
       "95  (10.507053802732276, 104.97010357598151)  Non Rice\n",
       "96  (10.559744346972836, 105.12908366635551)  Non Rice\n",
       "97  (10.280121079434142, 105.53552762311739)  Non Rice\n",
       "98  (10.190183771161461, 105.26344455416304)      Rice\n",
       "99    (10.242874315402021, 105.303870920001)      Rice\n",
       "\n",
       "[100 rows x 2 columns]"
      ]
     },
     "execution_count": 226,
     "metadata": {},
     "output_type": "execute_result"
    }
   ],
   "source": [
    "final_sub.head(100)"
   ]
  },
  {
   "cell_type": "code",
   "execution_count": 228,
   "id": "abcd9fd6-ba88-4975-8a91-901db8890c22",
   "metadata": {},
   "outputs": [
    {
     "data": {
      "text/plain": [
       "Non Rice    188\n",
       "Rice         62\n",
       "Name: target, dtype: int64"
      ]
     },
     "execution_count": 228,
     "metadata": {},
     "output_type": "execute_result"
    }
   ],
   "source": [
    "final_sub['target'].value_counts()"
   ]
  },
  {
   "cell_type": "code",
   "execution_count": 229,
   "id": "c62e4c1b-a940-46dd-854d-71705b8df662",
   "metadata": {},
   "outputs": [],
   "source": [
    "final_sub.to_csv('Submission/submission-new-6.csv',index=False)"
   ]
  },
  {
   "cell_type": "code",
   "execution_count": null,
   "id": "775678e3-8247-4e3e-9a25-094e64e802b0",
   "metadata": {},
   "outputs": [],
   "source": []
  },
  {
   "cell_type": "code",
   "execution_count": null,
   "id": "1ba91661-e407-48c2-844d-0bd960c65268",
   "metadata": {},
   "outputs": [],
   "source": []
  },
  {
   "cell_type": "code",
   "execution_count": null,
   "id": "52847969-c08d-4288-a9b3-a5e86c161734",
   "metadata": {},
   "outputs": [],
   "source": []
  },
  {
   "cell_type": "code",
   "execution_count": null,
   "id": "3ce948bf-ec2f-432f-858e-c2fb448a9ae1",
   "metadata": {},
   "outputs": [],
   "source": []
  },
  {
   "cell_type": "code",
   "execution_count": null,
   "id": "490b9cc9-03c2-4678-b0bc-29b0562df0c7",
   "metadata": {},
   "outputs": [],
   "source": []
  },
  {
   "cell_type": "code",
   "execution_count": null,
   "id": "d33230aa-0130-43bb-99df-b997053520fd",
   "metadata": {},
   "outputs": [],
   "source": []
  },
  {
   "cell_type": "code",
   "execution_count": null,
   "id": "e003ecb9-99e3-4d88-8b30-b66243aa6d87",
   "metadata": {},
   "outputs": [],
   "source": []
  },
  {
   "cell_type": "code",
   "execution_count": null,
   "id": "b39a8146-7ddb-4eed-92dc-22dfb69caaa7",
   "metadata": {},
   "outputs": [],
   "source": []
  },
  {
   "cell_type": "code",
   "execution_count": null,
   "id": "b54c73c2-6f0b-4f8b-9e03-dedfe3802e83",
   "metadata": {},
   "outputs": [],
   "source": []
  },
  {
   "cell_type": "code",
   "execution_count": null,
   "id": "d85f061b-c18c-4866-a918-91457f4cc388",
   "metadata": {},
   "outputs": [],
   "source": []
  }
 ],
 "metadata": {
  "kernelspec": {
   "display_name": "Python 3 (ipykernel)",
   "language": "python",
   "name": "python3"
  },
  "language_info": {
   "codemirror_mode": {
    "name": "ipython",
    "version": 3
   },
   "file_extension": ".py",
   "mimetype": "text/x-python",
   "name": "python",
   "nbconvert_exporter": "python",
   "pygments_lexer": "ipython3",
   "version": "3.10.6"
  }
 },
 "nbformat": 4,
 "nbformat_minor": 5
}
