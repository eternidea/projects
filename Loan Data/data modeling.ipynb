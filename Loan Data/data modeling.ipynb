{
 "cells": [
  {
   "cell_type": "code",
   "execution_count": 1,
   "metadata": {},
   "outputs": [],
   "source": [
    "import pandas as pd\n",
    "import numpy as np"
   ]
  },
  {
   "cell_type": "code",
   "execution_count": 26,
   "metadata": {},
   "outputs": [
    {
     "name": "stderr",
     "output_type": "stream",
     "text": [
      "/var/folders/cs/qhjjbcjx35d9dcvb4358qwzw0000gn/T/ipykernel_12612/3945742932.py:1: DtypeWarning: Columns (13,25) have mixed types. Specify dtype option on import or set low_memory=False.\n",
      "  df1=pd.read_csv('//Users//Dongjun//Library//CloudStorage//OneDrive-TheUniversityofTexasatDallas//동준//Data Science//Git//projects//Loan Data//Data//new-foia-7afy1991-fy1999-asof-221231.csv')\n",
      "/var/folders/cs/qhjjbcjx35d9dcvb4358qwzw0000gn/T/ipykernel_12612/3945742932.py:2: DtypeWarning: Columns (13,25) have mixed types. Specify dtype option on import or set low_memory=False.\n",
      "  df2=pd.read_csv('//Users//Dongjun//Library//CloudStorage//OneDrive-TheUniversityofTexasatDallas//동준//Data Science//Git//projects//Loan Data//Data//new-foia-7afy2000-fy2009-asof-221231.csv')\n",
      "/var/folders/cs/qhjjbcjx35d9dcvb4358qwzw0000gn/T/ipykernel_12612/3945742932.py:3: DtypeWarning: Columns (13,32) have mixed types. Specify dtype option on import or set low_memory=False.\n",
      "  df3=pd.read_csv('//Users//Dongjun//Library//CloudStorage//OneDrive-TheUniversityofTexasatDallas//동준//Data Science//Git//projects//Loan Data//Data//new-foia-7afy2010-fy2019-asof-221231.csv')\n",
      "/var/folders/cs/qhjjbcjx35d9dcvb4358qwzw0000gn/T/ipykernel_12612/3945742932.py:4: DtypeWarning: Columns (34,35) have mixed types. Specify dtype option on import or set low_memory=False.\n",
      "  df4=pd.read_csv('//Users//Dongjun//Library//CloudStorage//OneDrive-TheUniversityofTexasatDallas//동준//Data Science//Git//projects//Loan Data//Data//new-foia-7afy2020-present-asof-221231.csv')\n"
     ]
    }
   ],
   "source": [
    "df1=pd.read_csv('//Users//Dongjun//Library//CloudStorage//OneDrive-TheUniversityofTexasatDallas//동준//Data Science//Git//projects//Loan Data//Data//new-foia-7afy1991-fy1999-asof-221231.csv')\n",
    "df2=pd.read_csv('//Users//Dongjun//Library//CloudStorage//OneDrive-TheUniversityofTexasatDallas//동준//Data Science//Git//projects//Loan Data//Data//new-foia-7afy2000-fy2009-asof-221231.csv')\n",
    "df3=pd.read_csv('//Users//Dongjun//Library//CloudStorage//OneDrive-TheUniversityofTexasatDallas//동준//Data Science//Git//projects//Loan Data//Data//new-foia-7afy2010-fy2019-asof-221231.csv')\n",
    "df4=pd.read_csv('//Users//Dongjun//Library//CloudStorage//OneDrive-TheUniversityofTexasatDallas//동준//Data Science//Git//projects//Loan Data//Data//new-foia-7afy2020-present-asof-221231.csv')"
   ]
  },
  {
   "cell_type": "code",
   "execution_count": 19,
   "metadata": {},
   "outputs": [
    {
     "data": {
      "text/plain": [
       "39"
      ]
     },
     "execution_count": 19,
     "metadata": {},
     "output_type": "execute_result"
    }
   ],
   "source": [
    "len(df1.columns)"
   ]
  },
  {
   "cell_type": "code",
   "execution_count": 64,
   "metadata": {},
   "outputs": [],
   "source": [
    "final=pd.concat([df1,df2])\n",
    "final=pd.concat([final,df3])\n",
    "final=pd.concat([final,df4])"
   ]
  },
  {
   "cell_type": "code",
   "execution_count": 28,
   "metadata": {},
   "outputs": [
    {
     "data": {
      "text/plain": [
       "1727948"
      ]
     },
     "execution_count": 28,
     "metadata": {},
     "output_type": "execute_result"
    }
   ],
   "source": [
    "len(final)"
   ]
  },
  {
   "cell_type": "code",
   "execution_count": 29,
   "metadata": {},
   "outputs": [
    {
     "data": {
      "text/plain": [
       "Index(['AsOfDate', 'Program', 'BorrName', 'BorrStreet', 'BorrCity',\n",
       "       'BorrState', 'BorrZip', 'BankName', 'BankFDICNumber', 'BankNCUANumber',\n",
       "       'BankStreet', 'BankCity', 'BankState', 'BankZip', 'GrossApproval',\n",
       "       'SBAGuaranteedApproval', 'ApprovalDate', 'ApprovalFiscalYear',\n",
       "       'FirstDisbursementDate', 'DeliveryMethod', 'subpgmdesc',\n",
       "       'InitialInterestRate', 'TermInMonths', 'NaicsCode', 'NaicsDescription',\n",
       "       'FranchiseCode', 'FranchiseName', 'ProjectCounty', 'ProjectState',\n",
       "       'SBADistrictOffice', 'CongressionalDistrict', 'BusinessType',\n",
       "       'BusinessAge', 'LoanStatus', 'PaidInFullDate', 'ChargeOffDate',\n",
       "       'GrossChargeOffAmount', 'RevolverStatus', 'JobsSupported'],\n",
       "      dtype='object')"
      ]
     },
     "execution_count": 29,
     "metadata": {},
     "output_type": "execute_result"
    }
   ],
   "source": [
    "final.columns"
   ]
  },
  {
   "cell_type": "code",
   "execution_count": 65,
   "metadata": {},
   "outputs": [
    {
     "data": {
      "text/html": [
       "<div>\n",
       "<style scoped>\n",
       "    .dataframe tbody tr th:only-of-type {\n",
       "        vertical-align: middle;\n",
       "    }\n",
       "\n",
       "    .dataframe tbody tr th {\n",
       "        vertical-align: top;\n",
       "    }\n",
       "\n",
       "    .dataframe thead th {\n",
       "        text-align: right;\n",
       "    }\n",
       "</style>\n",
       "<table border=\"1\" class=\"dataframe\">\n",
       "  <thead>\n",
       "    <tr style=\"text-align: right;\">\n",
       "      <th></th>\n",
       "      <th>AsOfDate</th>\n",
       "      <th>Program</th>\n",
       "      <th>BorrName</th>\n",
       "      <th>BorrStreet</th>\n",
       "      <th>BorrCity</th>\n",
       "      <th>BorrState</th>\n",
       "      <th>BorrZip</th>\n",
       "      <th>BankName</th>\n",
       "      <th>BankFDICNumber</th>\n",
       "      <th>BankNCUANumber</th>\n",
       "      <th>...</th>\n",
       "      <th>SBADistrictOffice</th>\n",
       "      <th>CongressionalDistrict</th>\n",
       "      <th>BusinessType</th>\n",
       "      <th>BusinessAge</th>\n",
       "      <th>LoanStatus</th>\n",
       "      <th>PaidInFullDate</th>\n",
       "      <th>ChargeOffDate</th>\n",
       "      <th>GrossChargeOffAmount</th>\n",
       "      <th>RevolverStatus</th>\n",
       "      <th>JobsSupported</th>\n",
       "    </tr>\n",
       "  </thead>\n",
       "  <tbody>\n",
       "    <tr>\n",
       "      <th>0</th>\n",
       "      <td>20221231</td>\n",
       "      <td>7A</td>\n",
       "      <td>BODY SHOP</td>\n",
       "      <td>BOX 503, S. HWY 71</td>\n",
       "      <td>WILLMAR</td>\n",
       "      <td>MN</td>\n",
       "      <td>56201</td>\n",
       "      <td>U.S. Bank, National Association</td>\n",
       "      <td>6548.0</td>\n",
       "      <td>NaN</td>\n",
       "      <td>...</td>\n",
       "      <td>MINNESOTA DISTRICT OFFICE</td>\n",
       "      <td>7.0</td>\n",
       "      <td>INDIVIDUAL</td>\n",
       "      <td>NaN</td>\n",
       "      <td>PIF</td>\n",
       "      <td>7/31/05</td>\n",
       "      <td>NaN</td>\n",
       "      <td>0</td>\n",
       "      <td>0</td>\n",
       "      <td>0</td>\n",
       "    </tr>\n",
       "    <tr>\n",
       "      <th>1</th>\n",
       "      <td>20221231</td>\n",
       "      <td>7A</td>\n",
       "      <td>Michael Davis</td>\n",
       "      <td>P O BOX 1457</td>\n",
       "      <td>FOND DU LAC</td>\n",
       "      <td>WI</td>\n",
       "      <td>54936</td>\n",
       "      <td>U.S. Bank, National Association</td>\n",
       "      <td>6548.0</td>\n",
       "      <td>NaN</td>\n",
       "      <td>...</td>\n",
       "      <td>MILWAUKEE</td>\n",
       "      <td>6.0</td>\n",
       "      <td>CORPORATION</td>\n",
       "      <td>NaN</td>\n",
       "      <td>PIF</td>\n",
       "      <td>7/31/05</td>\n",
       "      <td>NaN</td>\n",
       "      <td>0</td>\n",
       "      <td>0</td>\n",
       "      <td>0</td>\n",
       "    </tr>\n",
       "    <tr>\n",
       "      <th>2</th>\n",
       "      <td>20221231</td>\n",
       "      <td>7A</td>\n",
       "      <td>MICRO-PACE COMPUTERS INC.</td>\n",
       "      <td>604 N. COUNTRY FAIR DRIVE, S</td>\n",
       "      <td>CHAMPAIGN</td>\n",
       "      <td>IL</td>\n",
       "      <td>61821</td>\n",
       "      <td>CIBM Bank</td>\n",
       "      <td>11729.0</td>\n",
       "      <td>NaN</td>\n",
       "      <td>...</td>\n",
       "      <td>SPRINGFIELD BRANCH OFFICE</td>\n",
       "      <td>13.0</td>\n",
       "      <td>CORPORATION</td>\n",
       "      <td>NaN</td>\n",
       "      <td>PIF</td>\n",
       "      <td>7/31/05</td>\n",
       "      <td>NaN</td>\n",
       "      <td>0</td>\n",
       "      <td>0</td>\n",
       "      <td>0</td>\n",
       "    </tr>\n",
       "    <tr>\n",
       "      <th>3</th>\n",
       "      <td>20221231</td>\n",
       "      <td>7A</td>\n",
       "      <td>ROBINS INSURANCE AGENCY INC.</td>\n",
       "      <td>30 BURTON HILLS BLVD.</td>\n",
       "      <td>NASHVILLE</td>\n",
       "      <td>TN</td>\n",
       "      <td>37215</td>\n",
       "      <td>Truist Bank</td>\n",
       "      <td>9846.0</td>\n",
       "      <td>NaN</td>\n",
       "      <td>...</td>\n",
       "      <td>TENNESSEE DISTRICT OFFICE</td>\n",
       "      <td>5.0</td>\n",
       "      <td>CORPORATION</td>\n",
       "      <td>NaN</td>\n",
       "      <td>PIF</td>\n",
       "      <td>7/31/05</td>\n",
       "      <td>NaN</td>\n",
       "      <td>0</td>\n",
       "      <td>0</td>\n",
       "      <td>0</td>\n",
       "    </tr>\n",
       "    <tr>\n",
       "      <th>4</th>\n",
       "      <td>20221231</td>\n",
       "      <td>7A</td>\n",
       "      <td>COPYTRON INC.</td>\n",
       "      <td>2588 VANCE DRIVE</td>\n",
       "      <td>MT AIRY</td>\n",
       "      <td>MD</td>\n",
       "      <td>21771</td>\n",
       "      <td>Manufacturers and Traders Trust Company</td>\n",
       "      <td>588.0</td>\n",
       "      <td>NaN</td>\n",
       "      <td>...</td>\n",
       "      <td>BALTIMORE DISTRICT OFFICE</td>\n",
       "      <td>7.0</td>\n",
       "      <td>CORPORATION</td>\n",
       "      <td>NaN</td>\n",
       "      <td>PIF</td>\n",
       "      <td>7/31/05</td>\n",
       "      <td>NaN</td>\n",
       "      <td>0</td>\n",
       "      <td>0</td>\n",
       "      <td>0</td>\n",
       "    </tr>\n",
       "  </tbody>\n",
       "</table>\n",
       "<p>5 rows × 39 columns</p>\n",
       "</div>"
      ],
      "text/plain": [
       "   AsOfDate Program                      BorrName  \\\n",
       "0  20221231      7A                     BODY SHOP   \n",
       "1  20221231      7A                 Michael Davis   \n",
       "2  20221231      7A     MICRO-PACE COMPUTERS INC.   \n",
       "3  20221231      7A  ROBINS INSURANCE AGENCY INC.   \n",
       "4  20221231      7A                 COPYTRON INC.   \n",
       "\n",
       "                     BorrStreet     BorrCity BorrState  BorrZip  \\\n",
       "0            BOX 503, S. HWY 71      WILLMAR        MN    56201   \n",
       "1                  P O BOX 1457  FOND DU LAC        WI    54936   \n",
       "2  604 N. COUNTRY FAIR DRIVE, S    CHAMPAIGN        IL    61821   \n",
       "3         30 BURTON HILLS BLVD.    NASHVILLE        TN    37215   \n",
       "4              2588 VANCE DRIVE      MT AIRY        MD    21771   \n",
       "\n",
       "                                  BankName  BankFDICNumber  BankNCUANumber  \\\n",
       "0          U.S. Bank, National Association          6548.0             NaN   \n",
       "1          U.S. Bank, National Association          6548.0             NaN   \n",
       "2                                CIBM Bank         11729.0             NaN   \n",
       "3                              Truist Bank          9846.0             NaN   \n",
       "4  Manufacturers and Traders Trust Company           588.0             NaN   \n",
       "\n",
       "   ...          SBADistrictOffice CongressionalDistrict BusinessType  \\\n",
       "0  ...  MINNESOTA DISTRICT OFFICE                   7.0   INDIVIDUAL   \n",
       "1  ...                  MILWAUKEE                   6.0  CORPORATION   \n",
       "2  ...  SPRINGFIELD BRANCH OFFICE                  13.0  CORPORATION   \n",
       "3  ...  TENNESSEE DISTRICT OFFICE                   5.0  CORPORATION   \n",
       "4  ...  BALTIMORE DISTRICT OFFICE                   7.0  CORPORATION   \n",
       "\n",
       "  BusinessAge  LoanStatus  PaidInFullDate ChargeOffDate  GrossChargeOffAmount  \\\n",
       "0         NaN         PIF         7/31/05           NaN                     0   \n",
       "1         NaN         PIF         7/31/05           NaN                     0   \n",
       "2         NaN         PIF         7/31/05           NaN                     0   \n",
       "3         NaN         PIF         7/31/05           NaN                     0   \n",
       "4         NaN         PIF         7/31/05           NaN                     0   \n",
       "\n",
       "  RevolverStatus JobsSupported  \n",
       "0              0             0  \n",
       "1              0             0  \n",
       "2              0             0  \n",
       "3              0             0  \n",
       "4              0             0  \n",
       "\n",
       "[5 rows x 39 columns]"
      ]
     },
     "execution_count": 65,
     "metadata": {},
     "output_type": "execute_result"
    }
   ],
   "source": [
    "final.head()"
   ]
  },
  {
   "cell_type": "code",
   "execution_count": 66,
   "metadata": {},
   "outputs": [],
   "source": [
    "final['Case_ID']=np.arange(len(final))"
   ]
  },
  {
   "cell_type": "code",
   "execution_count": 80,
   "metadata": {},
   "outputs": [],
   "source": [
    "borrower=final[['Case_ID','BorrName','BorrStreet','BorrCity','BorrState','BorrZip','BusinessType']]"
   ]
  },
  {
   "cell_type": "code",
   "execution_count": 81,
   "metadata": {},
   "outputs": [
    {
     "name": "stderr",
     "output_type": "stream",
     "text": [
      "/var/folders/cs/qhjjbcjx35d9dcvb4358qwzw0000gn/T/ipykernel_12612/2282326049.py:1: SettingWithCopyWarning: \n",
      "A value is trying to be set on a copy of a slice from a DataFrame.\n",
      "Try using .loc[row_indexer,col_indexer] = value instead\n",
      "\n",
      "See the caveats in the documentation: https://pandas.pydata.org/pandas-docs/stable/user_guide/indexing.html#returning-a-view-versus-a-copy\n",
      "  borrower['Borr_ID']=borrower.groupby(['BorrName','BorrStreet','BorrCity','BorrState','BorrZip','BusinessType']).ngroup()\n"
     ]
    }
   ],
   "source": [
    "borrower['Borr_ID']=borrower.groupby(['BorrName','BorrStreet','BorrCity','BorrState','BorrZip','BusinessType']).ngroup()"
   ]
  },
  {
   "cell_type": "code",
   "execution_count": 84,
   "metadata": {},
   "outputs": [
    {
     "data": {
      "text/plain": [
       "(1727948, 1611067)"
      ]
     },
     "execution_count": 84,
     "metadata": {},
     "output_type": "execute_result"
    }
   ],
   "source": [
    "len(borrower), len(borrower.Borr_ID.value_counts())"
   ]
  },
  {
   "cell_type": "code",
   "execution_count": null,
   "metadata": {},
   "outputs": [],
   "source": []
  },
  {
   "cell_type": "code",
   "execution_count": 85,
   "metadata": {},
   "outputs": [],
   "source": [
    "borrower.to_csv('borrower.csv')"
   ]
  },
  {
   "cell_type": "code",
   "execution_count": 68,
   "metadata": {},
   "outputs": [],
   "source": [
    "bank=final[['Case_ID','BankName','BankFDICNumber','BankNCUANumber','BankStreet','BankCity','BankState','BankZip']]"
   ]
  },
  {
   "cell_type": "code",
   "execution_count": 86,
   "metadata": {},
   "outputs": [
    {
     "data": {
      "text/plain": [
       "(1727948, 1984)"
      ]
     },
     "execution_count": 86,
     "metadata": {},
     "output_type": "execute_result"
    }
   ],
   "source": [
    "len(bank), len(bank.value_counts())"
   ]
  },
  {
   "cell_type": "code",
   "execution_count": null,
   "metadata": {},
   "outputs": [],
   "source": [
    "bank['Borr_ID']=bank.groupby(['BankName','BankFDICNumber','BankNCUANumber','BankStreet','BankCity','BankState','BankZip']).ngroup()"
   ]
  },
  {
   "cell_type": "code",
   "execution_count": 71,
   "metadata": {},
   "outputs": [],
   "source": [
    "other=final[['GrossApproval','SBAGuaranteedApproval', 'ApprovalDate', 'ApprovalFiscalYear',\n",
    "       'FirstDisbursementDate', 'DeliveryMethod', 'subpgmdesc',\n",
    "       'InitialInterestRate', 'TermInMonths', 'NaicsCode', 'NaicsDescription',\n",
    "       'FranchiseCode', 'FranchiseName', 'ProjectCounty', 'ProjectState',\n",
    "       'SBADistrictOffice', 'CongressionalDistrict','LoanStatus', 'PaidInFullDate', 'ChargeOffDate',\n",
    "       'GrossChargeOffAmount', 'RevolverStatus', 'Case_ID']]"
   ]
  },
  {
   "cell_type": "code",
   "execution_count": 52,
   "metadata": {},
   "outputs": [
    {
     "data": {
      "text/plain": [
       "CORPORATION    1319948\n",
       "INDIVIDUAL      353048\n",
       "PARTNERSHIP      54882\n",
       "Name: BusinessType, dtype: int64"
      ]
     },
     "execution_count": 52,
     "metadata": {},
     "output_type": "execute_result"
    }
   ],
   "source": [
    "final['BusinessType'].value_counts()"
   ]
  },
  {
   "cell_type": "code",
   "execution_count": 53,
   "metadata": {},
   "outputs": [
    {
     "data": {
      "text/plain": [
       "BorrState  BorrZip\n",
       "NY         10001      1707\n",
       "CA         90015      1466\n",
       "           93401      1288\n",
       "FL         33166      1160\n",
       "CA         90021      1112\n",
       "                      ... \n",
       "NC         18403         1\n",
       "           18681         1\n",
       "           19734         1\n",
       "           20006         1\n",
       "WY         95030         1\n",
       "Length: 38958, dtype: int64"
      ]
     },
     "execution_count": 53,
     "metadata": {},
     "output_type": "execute_result"
    }
   ],
   "source": [
    "final[['BorrState','BorrZip']].value_counts()"
   ]
  },
  {
   "cell_type": "code",
   "execution_count": 57,
   "metadata": {},
   "outputs": [],
   "source": [
    "tmp_ny=final[(final['BorrState']=='NY')&(final['BorrZip']==10001)]"
   ]
  },
  {
   "cell_type": "code",
   "execution_count": 58,
   "metadata": {},
   "outputs": [
    {
     "data": {
      "text/plain": [
       "1707"
      ]
     },
     "execution_count": 58,
     "metadata": {},
     "output_type": "execute_result"
    }
   ],
   "source": [
    "len(tmp_ny)"
   ]
  },
  {
   "cell_type": "code",
   "execution_count": 60,
   "metadata": {},
   "outputs": [
    {
     "data": {
      "text/plain": [
       "BOMVYX CORP.                  5\n",
       "Stamp Event Management LLC    3\n",
       "SKINPROLOGICA LLC             3\n",
       "Vignaioli Ltd.                3\n",
       "Hudson Market 303 LLC         3\n",
       "                             ..\n",
       "DEVIX GROUP LLC               1\n",
       "KCM THERAPY                   1\n",
       "ANMI INC                      1\n",
       "NU-TERRA LLC                  1\n",
       "Unarthodox LLC                1\n",
       "Name: BorrName, Length: 1533, dtype: int64"
      ]
     },
     "execution_count": 60,
     "metadata": {},
     "output_type": "execute_result"
    }
   ],
   "source": [
    "tmp_ny.BorrName.value_counts()"
   ]
  },
  {
   "cell_type": "code",
   "execution_count": null,
   "metadata": {},
   "outputs": [],
   "source": []
  }
 ],
 "metadata": {
  "kernelspec": {
   "display_name": "Python 3",
   "language": "python",
   "name": "python3"
  },
  "language_info": {
   "codemirror_mode": {
    "name": "ipython",
    "version": 3
   },
   "file_extension": ".py",
   "mimetype": "text/x-python",
   "name": "python",
   "nbconvert_exporter": "python",
   "pygments_lexer": "ipython3",
   "version": "3.10.4"
  },
  "orig_nbformat": 4
 },
 "nbformat": 4,
 "nbformat_minor": 2
}
